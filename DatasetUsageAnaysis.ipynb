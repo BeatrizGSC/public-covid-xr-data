{
  "nbformat": 4,
  "nbformat_minor": 0,
  "metadata": {
    "colab": {
      "name": "DatasetUsageAnaysis.ipynb",
      "provenance": [],
      "collapsed_sections": [],
      "authorship_tag": "ABX9TyMVw0nusBhr0UfCStM8ru+e",
      "include_colab_link": true
    },
    "kernelspec": {
      "name": "python3",
      "display_name": "Python 3"
    },
    "language_info": {
      "name": "python"
    }
  },
  "cells": [
    {
      "cell_type": "markdown",
      "metadata": {
        "id": "view-in-github",
        "colab_type": "text"
      },
      "source": [
        "<a href=\"https://colab.research.google.com/github/jansoe/public-covid-xr-data/blob/main/DatasetUsageAnaysis.ipynb\" target=\"_parent\"><img src=\"https://colab.research.google.com/assets/colab-badge.svg\" alt=\"Open In Colab\"/></a>"
      ]
    },
    {
      "cell_type": "markdown",
      "metadata": {
        "id": "CaxssStBKQwJ"
      },
      "source": [
        "# Analysis of dataset usage\n",
        "### Creates Figure 3 and Figure 4 of the manuscript"
      ]
    },
    {
      "cell_type": "markdown",
      "metadata": {
        "id": "zBCpKa0oKZLe"
      },
      "source": [
        "#### Imports and authorization"
      ]
    },
    {
      "cell_type": "code",
      "metadata": {
        "id": "3wndSJ9y_bWz"
      },
      "source": [
        "import pandas as pd\n",
        "import numpy as np\n",
        "\n",
        "from collections import Counter\n",
        "from pprint import pprint"
      ],
      "execution_count": 1,
      "outputs": []
    },
    {
      "cell_type": "code",
      "metadata": {
        "id": "Ll7N6FvSZXS1"
      },
      "source": [
        "from google.colab import auth\n",
        "auth.authenticate_user()"
      ],
      "execution_count": 2,
      "outputs": []
    },
    {
      "cell_type": "code",
      "metadata": {
        "id": "Y_3_t1kio_Qs"
      },
      "source": [
        "import gspread\n",
        "from oauth2client.client import GoogleCredentials"
      ],
      "execution_count": 3,
      "outputs": []
    },
    {
      "cell_type": "markdown",
      "metadata": {
        "id": "aAOQC13yKyhe"
      },
      "source": [
        "## Load PRISMA spreadsheet"
      ]
    },
    {
      "cell_type": "markdown",
      "metadata": {
        "id": "46ssbV6-LgSJ"
      },
      "source": [
        "### load PubMed Screening"
      ]
    },
    {
      "cell_type": "code",
      "metadata": {
        "id": "phhZKTNNSxAs"
      },
      "source": [
        "gc = gspread.authorize(GoogleCredentials.get_application_default())\n",
        "worksheet = gc.open('DatasetScraping').worksheet('PubmedPaper')\n",
        "\n",
        "rows = worksheet.get_all_values()\n",
        "paper = pd.DataFrame.from_records(rows[1:], columns=rows[0])"
      ],
      "execution_count": 4,
      "outputs": []
    },
    {
      "cell_type": "markdown",
      "metadata": {
        "id": "Ftk9md6XLBea"
      },
      "source": [
        "Load manually assigned month where the scraping failed"
      ]
    },
    {
      "cell_type": "code",
      "metadata": {
        "id": "mNX3wMumK-hB"
      },
      "source": [
        "m = paper.month == '0'\n",
        "paper.loc[m, 'month'] = paper.loc[m, 'month_manual'].astype('int')\n",
        "paper.month = paper.month.astype('int')\n",
        "paper.year = paper.year.astype('int')"
      ],
      "execution_count": 5,
      "outputs": []
    },
    {
      "cell_type": "code",
      "metadata": {
        "id": "iojDK3z-qdM0"
      },
      "source": [
        "assert (paper.month == 0).sum() == 0, 'Not all month properly assigned'"
      ],
      "execution_count": 6,
      "outputs": []
    },
    {
      "cell_type": "markdown",
      "metadata": {
        "id": "9oef4J6HLucj"
      },
      "source": [
        "### load *Google Dataset Search* resutls"
      ]
    },
    {
      "cell_type": "code",
      "metadata": {
        "id": "eSJ61BXoSxDC"
      },
      "source": [
        "gc = gspread.authorize(GoogleCredentials.get_application_default())\n",
        "worksheet = gc.open('DatasetScraping').worksheet('GoogleDataset')\n",
        "\n",
        "rows = worksheet.get_all_values()\n",
        "datasets_google = pd.DataFrame.from_records(rows[1:], columns=rows[0])\n",
        "\n",
        "datasets_google = datasets_google[datasets_google.screening == '']\n",
        "datasets_google = datasets_google.groupby('Link').agg({'eligibility': 'first'}).reset_index()\n",
        "\n",
        "# Extract toplevel domain\n",
        "datasets_google['domain'] = datasets_google.Link.apply(lambda x: '.'.join(x.split('://')[-1].split('/')[0].split('.')[-2:]))\n",
        "datasets_google.eligibility = datasets_google.eligibility.replace({'': 'eligible'})"
      ],
      "execution_count": 7,
      "outputs": []
    },
    {
      "cell_type": "markdown",
      "metadata": {
        "id": "wWOz68IbLkuw"
      },
      "source": [
        "### load paper identified datasets"
      ]
    },
    {
      "cell_type": "code",
      "metadata": {
        "id": "swM0sKJ4UQyE",
        "colab": {
          "base_uri": "https://localhost:8080/",
          "height": 143
        },
        "outputId": "cf332b8f-f87b-48e5-e141-a94a2ef533dd"
      },
      "source": [
        "worksheet = gc.open('DatasetScraping').worksheet('PaperIdentifiedDatasets')\n",
        "\n",
        "rows = worksheet.get_all_values()\n",
        "datasets = pd.DataFrame.from_records(rows[1:], columns=rows[0]).rename(columns={'origin': 'link'})\n",
        "datasets = datasets.set_index('name')\n",
        "datasets.eligibility = datasets.eligibility.replace({'': 'eligible', 'noinfo': 'no_info'})\n",
        "\n",
        "# Extract toplevel domain\n",
        "datasets['domain'] = datasets.link.apply(\n",
        "    lambda x: '.'.join(\n",
        "        x.split('://')[-1].split('/')[0]\n",
        "        .replace('co.uk', 'co::uk')\n",
        "        .replace('or.jp', 'or::jp')\n",
        "        .split('.')[-2:])\n",
        "    .replace('::', '.')\n",
        ")\n",
        "\n",
        "display(datasets.head(2))"
      ],
      "execution_count": 8,
      "outputs": [
        {
          "output_type": "display_data",
          "data": {
            "text/html": [
              "<div>\n",
              "<style scoped>\n",
              "    .dataframe tbody tr th:only-of-type {\n",
              "        vertical-align: middle;\n",
              "    }\n",
              "\n",
              "    .dataframe tbody tr th {\n",
              "        vertical-align: top;\n",
              "    }\n",
              "\n",
              "    .dataframe thead th {\n",
              "        text-align: right;\n",
              "    }\n",
              "</style>\n",
              "<table border=\"1\" class=\"dataframe\">\n",
              "  <thead>\n",
              "    <tr style=\"text-align: right;\">\n",
              "      <th></th>\n",
              "      <th>eligibility</th>\n",
              "      <th>paper_name</th>\n",
              "      <th>link</th>\n",
              "      <th>domain</th>\n",
              "    </tr>\n",
              "    <tr>\n",
              "      <th>name</th>\n",
              "      <th></th>\n",
              "      <th></th>\n",
              "      <th></th>\n",
              "      <th></th>\n",
              "    </tr>\n",
              "  </thead>\n",
              "  <tbody>\n",
              "    <tr>\n",
              "      <th>cohen</th>\n",
              "      <td>casecollection</td>\n",
              "      <td>Cohen/IEEE8023</td>\n",
              "      <td>https://github.com/ieee8023/covid-chestxray-da...</td>\n",
              "      <td>github.com</td>\n",
              "    </tr>\n",
              "    <tr>\n",
              "      <th>mooney</th>\n",
              "      <td>nocovid</td>\n",
              "      <td>Guangzhou pediatric</td>\n",
              "      <td>https://www.kaggle.com/paultimothymooney/chest...</td>\n",
              "      <td>kaggle.com</td>\n",
              "    </tr>\n",
              "  </tbody>\n",
              "</table>\n",
              "</div>"
            ],
            "text/plain": [
              "           eligibility  ...      domain\n",
              "name                    ...            \n",
              "cohen   casecollection  ...  github.com\n",
              "mooney         nocovid  ...  kaggle.com\n",
              "\n",
              "[2 rows x 4 columns]"
            ]
          },
          "metadata": {
            "tags": []
          }
        }
      ]
    },
    {
      "cell_type": "markdown",
      "metadata": {
        "id": "dVonfj2jo00e"
      },
      "source": [
        "#### Include reannotations\n",
        "We include reannotations if they are not based on a remix"
      ]
    },
    {
      "cell_type": "code",
      "metadata": {
        "colab": {
          "base_uri": "https://localhost:8080/"
        },
        "id": "sInLuMyXoXqs",
        "outputId": "841941dd-cb08-4c6e-fb86-b73a70a2679a"
      },
      "source": [
        "datasets.eligibility = (\n",
        "    datasets.eligibility\n",
        "    .replace('remix_reannotation', 'remix')\n",
        "    .replace('reannotation', 'eligible')\n",
        ")\n",
        "datasets.eligibility.value_counts()"
      ],
      "execution_count": 9,
      "outputs": [
        {
          "output_type": "execute_result",
          "data": {
            "text/plain": [
              "remix             25\n",
              "nocovid           15\n",
              "eligible          11\n",
              "casecollection    11\n",
              "no_info            2\n",
              "Name: eligibility, dtype: int64"
            ]
          },
          "metadata": {
            "tags": []
          },
          "execution_count": 9
        }
      ]
    },
    {
      "cell_type": "markdown",
      "metadata": {
        "id": "uFK_ut4HMOF7"
      },
      "source": [
        "## Eligibility by dataset source (Figure 3)"
      ]
    },
    {
      "cell_type": "markdown",
      "metadata": {
        "id": "oePY3F3KpfQu"
      },
      "source": [
        "Dataset by search method"
      ]
    },
    {
      "cell_type": "code",
      "metadata": {
        "id": "oLAe78-ornpE"
      },
      "source": [
        "eligibility = pd.concat([\n",
        "    datasets_google.eligibility.value_counts(),\n",
        "    datasets.eligibility.value_counts()\n",
        "], axis=1).fillna(0)\n",
        "eligibility.columns = ['Direct search', 'Indicrect search']"
      ],
      "execution_count": 10,
      "outputs": []
    },
    {
      "cell_type": "code",
      "metadata": {
        "id": "c1obrVcaIurl"
      },
      "source": [
        "order = ['eligible', 'casecollection', 'remix', 'no_meta', 'no_info', 'synthetic', 'nocovid']"
      ],
      "execution_count": 11,
      "outputs": []
    },
    {
      "cell_type": "markdown",
      "metadata": {
        "id": "dbenwsR5pAAn"
      },
      "source": [
        "Dataset by top level domain"
      ]
    },
    {
      "cell_type": "code",
      "metadata": {
        "id": "yDhqNERIE8-1"
      },
      "source": [
        "google_by_source = (datasets_google\n",
        "    .groupby('domain')\n",
        "    .eligibility.value_counts()\n",
        "    .unstack('eligibility')\n",
        "    .reindex(columns=order)\n",
        "    .fillna(0).astype('int')\n",
        ")\n",
        "\n",
        "\n",
        "paper_by_source = (datasets\n",
        "    .groupby('domain')\n",
        "    .eligibility.value_counts()\n",
        "    .unstack('eligibility')\n",
        "    .reindex(columns=order)\n",
        "    .fillna(0).astype('int')\n",
        ")"
      ],
      "execution_count": 12,
      "outputs": []
    },
    {
      "cell_type": "code",
      "metadata": {
        "id": "Y4Xwmdv58mA3"
      },
      "source": [
        "def main_format(ax):\n",
        "    ax.spines['right'].set_visible(False)\n",
        "    ax.spines['top'].set_visible(False)\n",
        "    ax.spines['bottom'].set_visible(False)\n",
        "    ax.set_ylabel('# datasets')\n",
        "    ax.set_xlabel(None)\n",
        "    #ax.set_ylim([0, 110])\n",
        "    \n",
        "    ax.set_xticklabels(ax.get_xticklabels(), rotation = 45, ha='right')"
      ],
      "execution_count": 13,
      "outputs": []
    },
    {
      "cell_type": "code",
      "metadata": {
        "colab": {
          "base_uri": "https://localhost:8080/",
          "height": 503
        },
        "id": "uAk5X9pssDZv",
        "outputId": "353d591d-3738-4a8b-d70d-3c3d58e8e960"
      },
      "source": [
        "cmap = 'viridis_r' #, 'plasma_r'\n",
        "\n",
        "import matplotlib.pyplot as plt\n",
        "import matplotlib\n",
        "\n",
        "matplotlib.rcParams.update({'font.size': 14})\n",
        "\n",
        "fig, axes = plt.subplots(1, 3, figsize=(20,7), gridspec_kw={'width_ratios': [8, 8, 22]})\n",
        "\n",
        "eligibility.reindex(order).T.plot.bar(stacked=True, cmap=cmap, ax = axes[0], legend=False)\n",
        "to_plot = google_by_source.iloc[np.argsort(google_by_source.sum(1))[::-1]]\n",
        "to_plot.plot.bar(stacked=True, cmap=cmap, ax = axes[1], legend=False)\n",
        "\n",
        "to_plot = paper_by_source.iloc[np.argsort(paper_by_source.sum(1))[::-1]]\n",
        "to_plot.plot.bar(stacked=True, cmap=cmap, ax = axes[2])\n",
        "\n",
        "for ax in axes:\n",
        "    main_format(ax)\n",
        "axes[0].set_xticklabels(axes[0].get_xticklabels(), rotation = 0, ha='center')\n",
        "axes[0].text(-.22, 1.01, '(a)', transform=axes[0].transAxes, size=18) #, weight='bold')\n",
        "\n",
        "axes[1].set_title('Direct dataset search')\n",
        "axes[1].text(-.2, 1.02, '(b)', transform=axes[1].transAxes, size=18) #, weight='bold')\n",
        "\n",
        "axes[2].set_title('Indicrect dataset search')\n",
        "axes[2].set_yticks([0, 10, 20])\n",
        "axes[2].text(-.07, 1.02, '(c)', transform=axes[2].transAxes, size=18) # , weight='bold')\n",
        "\n",
        "plt.tight_layout()\n",
        "fig.savefig('idenification.png', dpi=300, bbox_inches='tight')"
      ],
      "execution_count": 14,
      "outputs": [
        {
          "output_type": "display_data",
          "data": {
            "image/png": "[encoded data removed]",
            "text/plain": [
              "<Figure size 1440x504 with 3 Axes>"
            ]
          },
          "metadata": {
            "tags": [],
            "needs_background": "light"
          }
        }
      ]
    },
    {
      "cell_type": "markdown",
      "metadata": {
        "id": "V4XgU9SwRVsU"
      },
      "source": [
        "## Dataset usage on PubMed"
      ]
    },
    {
      "cell_type": "code",
      "metadata": {
        "id": "C63YDg_SM1gi"
      },
      "source": [
        "selected_paper = paper[paper.relevant == ''].copy()"
      ],
      "execution_count": 15,
      "outputs": []
    },
    {
      "cell_type": "code",
      "metadata": {
        "colab": {
          "base_uri": "https://localhost:8080/"
        },
        "id": "eWFD7kBVM-CT",
        "outputId": "e404b1d2-aece-4098-c2ee-b184d89e752e"
      },
      "source": [
        "selected_paper.groupby('term').doi.count().sort_values(ascending=False)"
      ],
      "execution_count": 16,
      "outputs": [
        {
          "output_type": "execute_result",
          "data": {
            "text/plain": [
              "term\n",
              "covid AND x-ray AND dataset             101\n",
              "covid AND x-ray AND deep learning        49\n",
              "covid AND x-ray AND machine learning     42\n",
              "covid AND x-ray AND data set             10\n",
              "Name: doi, dtype: int64"
            ]
          },
          "metadata": {
            "tags": []
          },
          "execution_count": 16
        }
      ]
    },
    {
      "cell_type": "markdown",
      "metadata": {
        "id": "SH83jJKiZvoP"
      },
      "source": [
        "#### Annotate each paper if it at least uses one dataset of a specific eligibility category "
      ]
    },
    {
      "cell_type": "code",
      "metadata": {
        "colab": {
          "base_uri": "https://localhost:8080/",
          "height": 164
        },
        "id": "hI1LerLvZqYI",
        "outputId": "fcb3bbe7-d601-416a-d3c1-34bd4029e886"
      },
      "source": [
        "def extract_and_cat(ds_list):\n",
        "    ds = [d for d in ds_list.split(', ') if len(d)>0]\n",
        "    ds = ['private' if 'privat' in d else d for d in ds]\n",
        "    ds = [datasets.loc[d, 'eligibility'] if d in datasets.index else d for d in ds]\n",
        "    return list(set(ds))\n",
        "\n",
        "\n",
        "selected_paper['category'] = selected_paper['extracted datasets'].apply(extract_and_cat)\n",
        "selected_paper.head(2)"
      ],
      "execution_count": 17,
      "outputs": [
        {
          "output_type": "execute_result",
          "data": {
            "text/html": [
              "<div>\n",
              "<style scoped>\n",
              "    .dataframe tbody tr th:only-of-type {\n",
              "        vertical-align: middle;\n",
              "    }\n",
              "\n",
              "    .dataframe tbody tr th {\n",
              "        vertical-align: top;\n",
              "    }\n",
              "\n",
              "    .dataframe thead th {\n",
              "        text-align: right;\n",
              "    }\n",
              "</style>\n",
              "<table border=\"1\" class=\"dataframe\">\n",
              "  <thead>\n",
              "    <tr style=\"text-align: right;\">\n",
              "      <th></th>\n",
              "      <th>doi</th>\n",
              "      <th>doi_link</th>\n",
              "      <th>year</th>\n",
              "      <th>month</th>\n",
              "      <th>month_manual</th>\n",
              "      <th>title</th>\n",
              "      <th>relevant</th>\n",
              "      <th>extracted datasets</th>\n",
              "      <th>term</th>\n",
              "      <th>category</th>\n",
              "    </tr>\n",
              "  </thead>\n",
              "  <tbody>\n",
              "    <tr>\n",
              "      <th>1</th>\n",
              "      <td>10.3233/XST-200715</td>\n",
              "      <td>https://doi.org/10.3233/XST-200715</td>\n",
              "      <td>2020</td>\n",
              "      <td>5</td>\n",
              "      <td>5</td>\n",
              "      <td>Identification of COVID-19 samples from chest ...</td>\n",
              "      <td></td>\n",
              "      <td>cohen, mooney</td>\n",
              "      <td>covid AND x-ray AND dataset</td>\n",
              "      <td>[nocovid, casecollection]</td>\n",
              "    </tr>\n",
              "    <tr>\n",
              "      <th>2</th>\n",
              "      <td>10.3233/XST-200720</td>\n",
              "      <td>https://doi.org/10.3233/XST-200720</td>\n",
              "      <td>2020</td>\n",
              "      <td>9</td>\n",
              "      <td>9</td>\n",
              "      <td>Detection of coronavirus disease from X-ray im...</td>\n",
              "      <td></td>\n",
              "      <td>cohen, mooney</td>\n",
              "      <td>covid AND x-ray AND dataset</td>\n",
              "      <td>[nocovid, casecollection]</td>\n",
              "    </tr>\n",
              "  </tbody>\n",
              "</table>\n",
              "</div>"
            ],
            "text/plain": [
              "                  doi  ...                   category\n",
              "1  10.3233/XST-200715  ...  [nocovid, casecollection]\n",
              "2  10.3233/XST-200720  ...  [nocovid, casecollection]\n",
              "\n",
              "[2 rows x 10 columns]"
            ]
          },
          "metadata": {
            "tags": []
          },
          "execution_count": 17
        }
      ]
    },
    {
      "cell_type": "markdown",
      "metadata": {
        "id": "QgiPpPt8TxkG"
      },
      "source": [
        "#### Dataset references per month"
      ]
    },
    {
      "cell_type": "code",
      "metadata": {
        "id": "0--8rP6HZuB2"
      },
      "source": [
        "def extract_and_map(ds_list):\n",
        "    ''' convert a list of dataset strings into a list of datasets\n",
        "        do some datacleaning on the fly (map all datasetnames which contain \"privat\" to private)\n",
        "    '''\n",
        "    datasets = sum([i.split(', ') for i in ds_list], [])\n",
        "    datasets = [d for d in datasets if len(d)>0]\n",
        "    datasets = ['private' if 'privat' in d else d for d in datasets]\n",
        "    return datasets"
      ],
      "execution_count": 18,
      "outputs": []
    },
    {
      "cell_type": "code",
      "metadata": {
        "id": "QnyFZEhLSxFq",
        "colab": {
          "base_uri": "https://localhost:8080/",
          "height": 181
        },
        "outputId": "ada5b8f6-dd7a-46a0-b725-163631e95de1"
      },
      "source": [
        "freq = selected_paper.groupby(['year', 'month']).agg({\n",
        "    'doi': 'count',\n",
        "    'extracted datasets': lambda x: Counter(extract_and_map(x))\n",
        "})\n",
        "\n",
        "freq = freq['extracted datasets'].apply(pd.Series).fillna(0)\n",
        "display(freq.head(2))"
      ],
      "execution_count": 19,
      "outputs": [
        {
          "output_type": "display_data",
          "data": {
            "text/html": [
              "<div>\n",
              "<style scoped>\n",
              "    .dataframe tbody tr th:only-of-type {\n",
              "        vertical-align: middle;\n",
              "    }\n",
              "\n",
              "    .dataframe tbody tr th {\n",
              "        vertical-align: top;\n",
              "    }\n",
              "\n",
              "    .dataframe thead th {\n",
              "        text-align: right;\n",
              "    }\n",
              "</style>\n",
              "<table border=\"1\" class=\"dataframe\">\n",
              "  <thead>\n",
              "    <tr style=\"text-align: right;\">\n",
              "      <th></th>\n",
              "      <th></th>\n",
              "      <th>cohen</th>\n",
              "      <th>mooney</th>\n",
              "      <th>kaggle_andrewmvd</th>\n",
              "      <th>nih</th>\n",
              "      <th>sirm</th>\n",
              "      <th>radiopedia</th>\n",
              "      <th>rsna_web</th>\n",
              "      <th>kaggle_radiodb</th>\n",
              "      <th>kaggle_ahmedali2019</th>\n",
              "      <th>private</th>\n",
              "      <th>rsna</th>\n",
              "      <th>jsrt</th>\n",
              "      <th>montgomery</th>\n",
              "      <th>kaggle_coronahack</th>\n",
              "      <th>not_identified</th>\n",
              "      <th>chexpert</th>\n",
              "      <th>twitter</th>\n",
              "      <th>github_muhammedtalo</th>\n",
              "      <th>covidx</th>\n",
              "      <th>shenzen</th>\n",
              "      <th>github_ncbi-nlp</th>\n",
              "      <th>mimic-cxr</th>\n",
              "      <th>padchest</th>\n",
              "      <th>agchung_figure1</th>\n",
              "      <th>actualmed</th>\n",
              "      <th>radiology_assitant_web</th>\n",
              "      <th>kaggle_bachrr</th>\n",
              "      <th>tcia_rural</th>\n",
              "      <th>kaggle_nabeelsajid917</th>\n",
              "      <th>kaagle_khoongweihao</th>\n",
              "      <th>argentinia</th>\n",
              "      <th>eurorad</th>\n",
              "      <th>kaggle_mader</th>\n",
              "      <th>bimcv</th>\n",
              "      <th>kaggle_darshan1504</th>\n",
              "      <th>kaggle_amanullahasraf</th>\n",
              "      <th>mendeley_augmented</th>\n",
              "      <th>covidgr</th>\n",
              "      <th>kaggle_digitalpathology</th>\n",
              "      <th>mendeley_combined</th>\n",
              "      <th>github_cxnet</th>\n",
              "      <th>mlhannover</th>\n",
              "      <th>ricord</th>\n",
              "      <th>figshare_bejing</th>\n",
              "      <th>kaggle_masumrefat</th>\n",
              "      <th>kaggle_rupeshs</th>\n",
              "      <th>openi</th>\n",
              "      <th>v7labs</th>\n",
              "      <th>kaggle_prashant268</th>\n",
              "      <th>github_smfai200</th>\n",
              "      <th>mendeley_moma</th>\n",
              "      <th>brixia</th>\n",
              "      <th>mendeley_extensive</th>\n",
              "    </tr>\n",
              "    <tr>\n",
              "      <th>year</th>\n",
              "      <th>month</th>\n",
              "      <th></th>\n",
              "      <th></th>\n",
              "      <th></th>\n",
              "      <th></th>\n",
              "      <th></th>\n",
              "      <th></th>\n",
              "      <th></th>\n",
              "      <th></th>\n",
              "      <th></th>\n",
              "      <th></th>\n",
              "      <th></th>\n",
              "      <th></th>\n",
              "      <th></th>\n",
              "      <th></th>\n",
              "      <th></th>\n",
              "      <th></th>\n",
              "      <th></th>\n",
              "      <th></th>\n",
              "      <th></th>\n",
              "      <th></th>\n",
              "      <th></th>\n",
              "      <th></th>\n",
              "      <th></th>\n",
              "      <th></th>\n",
              "      <th></th>\n",
              "      <th></th>\n",
              "      <th></th>\n",
              "      <th></th>\n",
              "      <th></th>\n",
              "      <th></th>\n",
              "      <th></th>\n",
              "      <th></th>\n",
              "      <th></th>\n",
              "      <th></th>\n",
              "      <th></th>\n",
              "      <th></th>\n",
              "      <th></th>\n",
              "      <th></th>\n",
              "      <th></th>\n",
              "      <th></th>\n",
              "      <th></th>\n",
              "      <th></th>\n",
              "      <th></th>\n",
              "      <th></th>\n",
              "      <th></th>\n",
              "      <th></th>\n",
              "      <th></th>\n",
              "      <th></th>\n",
              "      <th></th>\n",
              "      <th></th>\n",
              "      <th></th>\n",
              "      <th></th>\n",
              "      <th></th>\n",
              "    </tr>\n",
              "  </thead>\n",
              "  <tbody>\n",
              "    <tr>\n",
              "      <th rowspan=\"2\" valign=\"top\">2020</th>\n",
              "      <th>4</th>\n",
              "      <td>3.0</td>\n",
              "      <td>2.0</td>\n",
              "      <td>1.0</td>\n",
              "      <td>1.0</td>\n",
              "      <td>0.0</td>\n",
              "      <td>0.0</td>\n",
              "      <td>0.0</td>\n",
              "      <td>0.0</td>\n",
              "      <td>0.0</td>\n",
              "      <td>0.0</td>\n",
              "      <td>0.0</td>\n",
              "      <td>0.0</td>\n",
              "      <td>0.0</td>\n",
              "      <td>0.0</td>\n",
              "      <td>0.0</td>\n",
              "      <td>0.0</td>\n",
              "      <td>0.0</td>\n",
              "      <td>0.0</td>\n",
              "      <td>0.0</td>\n",
              "      <td>0.0</td>\n",
              "      <td>0.0</td>\n",
              "      <td>0.0</td>\n",
              "      <td>0.0</td>\n",
              "      <td>0.0</td>\n",
              "      <td>0.0</td>\n",
              "      <td>0.0</td>\n",
              "      <td>0.0</td>\n",
              "      <td>0.0</td>\n",
              "      <td>0.0</td>\n",
              "      <td>0.0</td>\n",
              "      <td>0.0</td>\n",
              "      <td>0.0</td>\n",
              "      <td>0.0</td>\n",
              "      <td>0.0</td>\n",
              "      <td>0.0</td>\n",
              "      <td>0.0</td>\n",
              "      <td>0.0</td>\n",
              "      <td>0.0</td>\n",
              "      <td>0.0</td>\n",
              "      <td>0.0</td>\n",
              "      <td>0.0</td>\n",
              "      <td>0.0</td>\n",
              "      <td>0.0</td>\n",
              "      <td>0.0</td>\n",
              "      <td>0.0</td>\n",
              "      <td>0.0</td>\n",
              "      <td>0.0</td>\n",
              "      <td>0.0</td>\n",
              "      <td>0.0</td>\n",
              "      <td>0.0</td>\n",
              "      <td>0.0</td>\n",
              "      <td>0.0</td>\n",
              "      <td>0.0</td>\n",
              "    </tr>\n",
              "    <tr>\n",
              "      <th>5</th>\n",
              "      <td>13.0</td>\n",
              "      <td>7.0</td>\n",
              "      <td>0.0</td>\n",
              "      <td>4.0</td>\n",
              "      <td>1.0</td>\n",
              "      <td>2.0</td>\n",
              "      <td>2.0</td>\n",
              "      <td>1.0</td>\n",
              "      <td>1.0</td>\n",
              "      <td>1.0</td>\n",
              "      <td>4.0</td>\n",
              "      <td>1.0</td>\n",
              "      <td>1.0</td>\n",
              "      <td>1.0</td>\n",
              "      <td>2.0</td>\n",
              "      <td>2.0</td>\n",
              "      <td>2.0</td>\n",
              "      <td>0.0</td>\n",
              "      <td>0.0</td>\n",
              "      <td>0.0</td>\n",
              "      <td>0.0</td>\n",
              "      <td>0.0</td>\n",
              "      <td>0.0</td>\n",
              "      <td>0.0</td>\n",
              "      <td>0.0</td>\n",
              "      <td>0.0</td>\n",
              "      <td>0.0</td>\n",
              "      <td>0.0</td>\n",
              "      <td>0.0</td>\n",
              "      <td>0.0</td>\n",
              "      <td>0.0</td>\n",
              "      <td>0.0</td>\n",
              "      <td>0.0</td>\n",
              "      <td>0.0</td>\n",
              "      <td>0.0</td>\n",
              "      <td>0.0</td>\n",
              "      <td>0.0</td>\n",
              "      <td>0.0</td>\n",
              "      <td>0.0</td>\n",
              "      <td>0.0</td>\n",
              "      <td>0.0</td>\n",
              "      <td>0.0</td>\n",
              "      <td>0.0</td>\n",
              "      <td>0.0</td>\n",
              "      <td>0.0</td>\n",
              "      <td>0.0</td>\n",
              "      <td>0.0</td>\n",
              "      <td>0.0</td>\n",
              "      <td>0.0</td>\n",
              "      <td>0.0</td>\n",
              "      <td>0.0</td>\n",
              "      <td>0.0</td>\n",
              "      <td>0.0</td>\n",
              "    </tr>\n",
              "  </tbody>\n",
              "</table>\n",
              "</div>"
            ],
            "text/plain": [
              "            cohen  mooney  ...  brixia  mendeley_extensive\n",
              "year month                 ...                            \n",
              "2020 4        3.0     2.0  ...     0.0                 0.0\n",
              "     5       13.0     7.0  ...     0.0                 0.0\n",
              "\n",
              "[2 rows x 53 columns]"
            ]
          },
          "metadata": {
            "tags": []
          }
        }
      ]
    },
    {
      "cell_type": "code",
      "metadata": {
        "id": "Fzm6Csf8z3if"
      },
      "source": [
        "# usage order\n",
        "counts = freq.sum(axis=0)\n",
        "ordered = counts.sort_values().index[::-1]"
      ],
      "execution_count": 20,
      "outputs": []
    },
    {
      "cell_type": "markdown",
      "metadata": {
        "id": "UAfabBUgUIIZ"
      },
      "source": [
        "#### Lump all dataset with less than X references into \"other\" category"
      ]
    },
    {
      "cell_type": "markdown",
      "metadata": {
        "id": "NOsULIoOVFKA"
      },
      "source": [
        "Define what to lump ..."
      ]
    },
    {
      "cell_type": "code",
      "metadata": {
        "id": "H5iOCJsFT2he",
        "colab": {
          "base_uri": "https://localhost:8080/"
        },
        "outputId": "90ef3fa5-e317-4586-933a-de351b513139"
      },
      "source": [
        "keep_seperate_thres = 5\n",
        "\n",
        "aggregation_map = {}\n",
        "for id, count in counts.iteritems():\n",
        "    if count < keep_seperate_thres:\n",
        "        corresponding_cat = datasets.loc[id, 'eligibility']\n",
        "        if (len(corresponding_cat) > 0) and corresponding_cat != 'eligible':\n",
        "            k = 'other_' + datasets.loc[id, 'eligibility']\n",
        "            agg_list  = aggregation_map.setdefault(k, [])\n",
        "            agg_list.append(id)\n",
        "\n",
        "print('Datasets are aggregated as follows: \\n')\n",
        "pprint(aggregation_map)"
      ],
      "execution_count": 21,
      "outputs": [
        {
          "output_type": "stream",
          "text": [
            "Datasets are aggregated as follows: \n",
            "\n",
            "{'other_casecollection': ['rsna_web',\n",
            "                          'github_ncbi-nlp',\n",
            "                          'radiology_assitant_web',\n",
            "                          'eurorad'],\n",
            " 'other_no_info': ['kaggle_nabeelsajid917', 'github_smfai200'],\n",
            " 'other_nocovid': ['kaggle_ahmedali2019',\n",
            "                   'jsrt',\n",
            "                   'shenzen',\n",
            "                   'mimic-cxr',\n",
            "                   'padchest',\n",
            "                   'kaggle_mader',\n",
            "                   'kaggle_digitalpathology',\n",
            "                   'openi'],\n",
            " 'other_remix': ['kaggle_coronahack',\n",
            "                 'github_muhammedtalo',\n",
            "                 'kaagle_khoongweihao',\n",
            "                 'argentinia',\n",
            "                 'kaggle_darshan1504',\n",
            "                 'kaggle_amanullahasraf',\n",
            "                 'mendeley_augmented',\n",
            "                 'mendeley_combined',\n",
            "                 'github_cxnet',\n",
            "                 'figshare_bejing',\n",
            "                 'kaggle_masumrefat',\n",
            "                 'kaggle_rupeshs',\n",
            "                 'v7labs',\n",
            "                 'kaggle_prashant268',\n",
            "                 'mendeley_moma',\n",
            "                 'mendeley_extensive']}\n"
          ],
          "name": "stdout"
        }
      ]
    },
    {
      "cell_type": "markdown",
      "metadata": {
        "id": "IA8S-vPNVINN"
      },
      "source": [
        "... and lump"
      ]
    },
    {
      "cell_type": "code",
      "metadata": {
        "id": "UGqHgpUuQ8u1",
        "colab": {
          "base_uri": "https://localhost:8080/",
          "height": 143
        },
        "outputId": "15db8e20-1ff4-4e3e-cb53-7d698f75bd76"
      },
      "source": [
        "freq_short = freq.copy().loc[:, freq.sum(0).sort_values().index[::-1]]\n",
        "for k, v in aggregation_map.items():\n",
        "    freq_short[k] = freq_short[v].sum(1)\n",
        "    freq_short = freq_short.drop(columns=v)\n",
        "freq_short = freq_short.T\n",
        "display(freq_short.head(2))"
      ],
      "execution_count": 22,
      "outputs": [
        {
          "output_type": "display_data",
          "data": {
            "text/html": [
              "<div>\n",
              "<style scoped>\n",
              "    .dataframe tbody tr th:only-of-type {\n",
              "        vertical-align: middle;\n",
              "    }\n",
              "\n",
              "    .dataframe tbody tr th {\n",
              "        vertical-align: top;\n",
              "    }\n",
              "\n",
              "    .dataframe thead tr th {\n",
              "        text-align: left;\n",
              "    }\n",
              "</style>\n",
              "<table border=\"1\" class=\"dataframe\">\n",
              "  <thead>\n",
              "    <tr>\n",
              "      <th>year</th>\n",
              "      <th colspan=\"9\" halign=\"left\">2020</th>\n",
              "      <th colspan=\"3\" halign=\"left\">2021</th>\n",
              "    </tr>\n",
              "    <tr>\n",
              "      <th>month</th>\n",
              "      <th>4</th>\n",
              "      <th>5</th>\n",
              "      <th>6</th>\n",
              "      <th>7</th>\n",
              "      <th>8</th>\n",
              "      <th>9</th>\n",
              "      <th>10</th>\n",
              "      <th>11</th>\n",
              "      <th>12</th>\n",
              "      <th>1</th>\n",
              "      <th>2</th>\n",
              "      <th>3</th>\n",
              "    </tr>\n",
              "  </thead>\n",
              "  <tbody>\n",
              "    <tr>\n",
              "      <th>cohen</th>\n",
              "      <td>3.0</td>\n",
              "      <td>13.0</td>\n",
              "      <td>5.0</td>\n",
              "      <td>8.0</td>\n",
              "      <td>8.0</td>\n",
              "      <td>16.0</td>\n",
              "      <td>10.0</td>\n",
              "      <td>16.0</td>\n",
              "      <td>6.0</td>\n",
              "      <td>16.0</td>\n",
              "      <td>16.0</td>\n",
              "      <td>19.0</td>\n",
              "    </tr>\n",
              "    <tr>\n",
              "      <th>mooney</th>\n",
              "      <td>2.0</td>\n",
              "      <td>7.0</td>\n",
              "      <td>5.0</td>\n",
              "      <td>1.0</td>\n",
              "      <td>2.0</td>\n",
              "      <td>12.0</td>\n",
              "      <td>5.0</td>\n",
              "      <td>7.0</td>\n",
              "      <td>4.0</td>\n",
              "      <td>12.0</td>\n",
              "      <td>8.0</td>\n",
              "      <td>7.0</td>\n",
              "    </tr>\n",
              "  </tbody>\n",
              "</table>\n",
              "</div>"
            ],
            "text/plain": [
              "year   2020                                              2021            \n",
              "month    4     5    6    7    8     9     10    11   12    1     2     3 \n",
              "cohen   3.0  13.0  5.0  8.0  8.0  16.0  10.0  16.0  6.0  16.0  16.0  19.0\n",
              "mooney  2.0   7.0  5.0  1.0  2.0  12.0   5.0   7.0  4.0  12.0   8.0   7.0"
            ]
          },
          "metadata": {
            "tags": []
          }
        }
      ]
    },
    {
      "cell_type": "markdown",
      "metadata": {
        "id": "2PQU_4OQVg6h"
      },
      "source": [
        "Map dataset names to those finally used in the paper and add eligibility category as additional index"
      ]
    },
    {
      "cell_type": "code",
      "metadata": {
        "id": "OkIa7oL32QqS",
        "colab": {
          "base_uri": "https://localhost:8080/",
          "height": 143
        },
        "outputId": "fc767278-9870-4404-eef6-975a2665d773"
      },
      "source": [
        "index = pd.MultiIndex.from_arrays([\n",
        "    # category assignment\n",
        "    [datasets.loc[i, 'eligibility'] \n",
        "      if i in datasets.index else i.replace('other_' , '') \n",
        "      for i in freq_short.index],\n",
        "     # paper name mapping\n",
        "     [datasets.loc[i, 'paper_name'] \n",
        "      if ((i in datasets.index) and len(datasets.loc[i, 'paper_name'])) else i\n",
        "      for i in freq_short.index]\n",
        "])\n",
        "\n",
        "freq_short = freq_short.set_index(index)\n",
        "display(freq_short.head(2))"
      ],
      "execution_count": 23,
      "outputs": [
        {
          "output_type": "display_data",
          "data": {
            "text/html": [
              "<div>\n",
              "<style scoped>\n",
              "    .dataframe tbody tr th:only-of-type {\n",
              "        vertical-align: middle;\n",
              "    }\n",
              "\n",
              "    .dataframe tbody tr th {\n",
              "        vertical-align: top;\n",
              "    }\n",
              "\n",
              "    .dataframe thead tr th {\n",
              "        text-align: left;\n",
              "    }\n",
              "</style>\n",
              "<table border=\"1\" class=\"dataframe\">\n",
              "  <thead>\n",
              "    <tr>\n",
              "      <th></th>\n",
              "      <th>year</th>\n",
              "      <th colspan=\"9\" halign=\"left\">2020</th>\n",
              "      <th colspan=\"3\" halign=\"left\">2021</th>\n",
              "    </tr>\n",
              "    <tr>\n",
              "      <th></th>\n",
              "      <th>month</th>\n",
              "      <th>4</th>\n",
              "      <th>5</th>\n",
              "      <th>6</th>\n",
              "      <th>7</th>\n",
              "      <th>8</th>\n",
              "      <th>9</th>\n",
              "      <th>10</th>\n",
              "      <th>11</th>\n",
              "      <th>12</th>\n",
              "      <th>1</th>\n",
              "      <th>2</th>\n",
              "      <th>3</th>\n",
              "    </tr>\n",
              "  </thead>\n",
              "  <tbody>\n",
              "    <tr>\n",
              "      <th>casecollection</th>\n",
              "      <th>Cohen/IEEE8023</th>\n",
              "      <td>3.0</td>\n",
              "      <td>13.0</td>\n",
              "      <td>5.0</td>\n",
              "      <td>8.0</td>\n",
              "      <td>8.0</td>\n",
              "      <td>16.0</td>\n",
              "      <td>10.0</td>\n",
              "      <td>16.0</td>\n",
              "      <td>6.0</td>\n",
              "      <td>16.0</td>\n",
              "      <td>16.0</td>\n",
              "      <td>19.0</td>\n",
              "    </tr>\n",
              "    <tr>\n",
              "      <th>nocovid</th>\n",
              "      <th>Guangzhou pediatric</th>\n",
              "      <td>2.0</td>\n",
              "      <td>7.0</td>\n",
              "      <td>5.0</td>\n",
              "      <td>1.0</td>\n",
              "      <td>2.0</td>\n",
              "      <td>12.0</td>\n",
              "      <td>5.0</td>\n",
              "      <td>7.0</td>\n",
              "      <td>4.0</td>\n",
              "      <td>12.0</td>\n",
              "      <td>8.0</td>\n",
              "      <td>7.0</td>\n",
              "    </tr>\n",
              "  </tbody>\n",
              "</table>\n",
              "</div>"
            ],
            "text/plain": [
              "year                               2020                  ...       2021            \n",
              "month                                4     5    6    7   ...   12    1     2     3 \n",
              "casecollection Cohen/IEEE8023       3.0  13.0  5.0  8.0  ...  6.0  16.0  16.0  19.0\n",
              "nocovid        Guangzhou pediatric  2.0   7.0  5.0  1.0  ...  4.0  12.0   8.0   7.0\n",
              "\n",
              "[2 rows x 12 columns]"
            ]
          },
          "metadata": {
            "tags": []
          }
        }
      ]
    },
    {
      "cell_type": "markdown",
      "metadata": {
        "id": "2KMr7xqKZDr2"
      },
      "source": [
        "### Sum dataset usage across all month\n",
        "Reorder by eligibiity category as defined"
      ]
    },
    {
      "cell_type": "code",
      "metadata": {
        "colab": {
          "base_uri": "https://localhost:8080/",
          "height": 112
        },
        "id": "9YkXKo1RH-BK",
        "outputId": "3f25d83a-cfc5-4029-af42-a1d75e519774"
      },
      "source": [
        "order2 = ['eligible', 'casecollection', 'remix',  'nocovid', 'no_info',  'private', 'not_identified']\n",
        "\n",
        "total_usage = pd.DataFrame(freq_short.reindex(order2, level=0).sum(1)).rename(columns={0:'papers_referencing_dataset'})\n",
        "total_usage.head(2)"
      ],
      "execution_count": 24,
      "outputs": [
        {
          "output_type": "execute_result",
          "data": {
            "text/html": [
              "<div>\n",
              "<style scoped>\n",
              "    .dataframe tbody tr th:only-of-type {\n",
              "        vertical-align: middle;\n",
              "    }\n",
              "\n",
              "    .dataframe tbody tr th {\n",
              "        vertical-align: top;\n",
              "    }\n",
              "\n",
              "    .dataframe thead th {\n",
              "        text-align: right;\n",
              "    }\n",
              "</style>\n",
              "<table border=\"1\" class=\"dataframe\">\n",
              "  <thead>\n",
              "    <tr style=\"text-align: right;\">\n",
              "      <th></th>\n",
              "      <th></th>\n",
              "      <th>papers_referencing_dataset</th>\n",
              "    </tr>\n",
              "  </thead>\n",
              "  <tbody>\n",
              "    <tr>\n",
              "      <th rowspan=\"2\" valign=\"top\">eligible</th>\n",
              "      <th>ACTUALMED</th>\n",
              "      <td>11.0</td>\n",
              "    </tr>\n",
              "    <tr>\n",
              "      <th>BIMCV-COVID19</th>\n",
              "      <td>3.0</td>\n",
              "    </tr>\n",
              "  </tbody>\n",
              "</table>\n",
              "</div>"
            ],
            "text/plain": [
              "                        papers_referencing_dataset\n",
              "eligible ACTUALMED                            11.0\n",
              "         BIMCV-COVID19                         3.0"
            ]
          },
          "metadata": {
            "tags": []
          },
          "execution_count": 24
        }
      ]
    },
    {
      "cell_type": "markdown",
      "metadata": {
        "id": "HWd_Eg7Daxik"
      },
      "source": [
        "### Extract paper dataset usage by eligibility category"
      ]
    },
    {
      "cell_type": "code",
      "metadata": {
        "colab": {
          "base_uri": "https://localhost:8080/",
          "height": 112
        },
        "id": "D4YaMB8EiOuP",
        "outputId": "0395880c-5dfa-48ac-a342-d3d9f114a5c5"
      },
      "source": [
        "category_usage_by_time = pd.DataFrame(\n",
        "    selected_paper.groupby(['year', 'month'])\n",
        "    .category.agg(lambda x: {k: v for k,v in Counter(sum(x, [])).most_common()})\n",
        "    .apply(pd.Series).fillna(0)\n",
        "    .T\n",
        ")\n",
        "\n",
        "category_usage = pd.DataFrame(category_usage_by_time.sum(1))\n",
        "category_usage.columns = ['papers_referencing_dataset']\n",
        "category_usage.head(2)"
      ],
      "execution_count": 25,
      "outputs": [
        {
          "output_type": "execute_result",
          "data": {
            "text/html": [
              "<div>\n",
              "<style scoped>\n",
              "    .dataframe tbody tr th:only-of-type {\n",
              "        vertical-align: middle;\n",
              "    }\n",
              "\n",
              "    .dataframe tbody tr th {\n",
              "        vertical-align: top;\n",
              "    }\n",
              "\n",
              "    .dataframe thead th {\n",
              "        text-align: right;\n",
              "    }\n",
              "</style>\n",
              "<table border=\"1\" class=\"dataframe\">\n",
              "  <thead>\n",
              "    <tr style=\"text-align: right;\">\n",
              "      <th></th>\n",
              "      <th>papers_referencing_dataset</th>\n",
              "    </tr>\n",
              "  </thead>\n",
              "  <tbody>\n",
              "    <tr>\n",
              "      <th>nocovid</th>\n",
              "      <td>122.0</td>\n",
              "    </tr>\n",
              "    <tr>\n",
              "      <th>casecollection</th>\n",
              "      <td>142.0</td>\n",
              "    </tr>\n",
              "  </tbody>\n",
              "</table>\n",
              "</div>"
            ],
            "text/plain": [
              "                papers_referencing_dataset\n",
              "nocovid                              122.0\n",
              "casecollection                       142.0"
            ]
          },
          "metadata": {
            "tags": []
          },
          "execution_count": 25
        }
      ]
    },
    {
      "cell_type": "markdown",
      "metadata": {
        "id": "NE70sb-PaqyZ"
      },
      "source": [
        "### Interleave eligibility category usage and dataset usage tables"
      ]
    },
    {
      "cell_type": "code",
      "metadata": {
        "id": "l-hvlKp_vvmK"
      },
      "source": [
        "total_usage['order'] = np.arange(0.5, len(total_usage))\n",
        "category_order = total_usage.reset_index().groupby('level_0').order.first() - 0.5\n",
        "\n",
        "category_usage['order'] = category_order\n",
        "\n",
        "multiindex = pd.MultiIndex.from_arrays([\n",
        "    category_usage_by_time.index, \n",
        "    ['any ' + x for x in category_usage_by_time.index]\n",
        "]) \n",
        "\n",
        "category_usage_by_time.index = multiindex\n",
        "category_usage.index = multiindex"
      ],
      "execution_count": 26,
      "outputs": []
    },
    {
      "cell_type": "code",
      "metadata": {
        "id": "cFYQsVF8JNSN"
      },
      "source": [
        "full_usage = pd.concat([total_usage, category_usage]).sort_values(by='order')\n",
        "full_usage = full_usage.drop(index = [('not_identified', 'not_identified'), ('private', 'private'), ('no_info', 'other_no_info')])\n",
        "full_usage['is_cat'] = full_usage.order.astype('int') == full_usage.order"
      ],
      "execution_count": 27,
      "outputs": []
    },
    {
      "cell_type": "code",
      "metadata": {
        "id": "l58fhXR3wFYu"
      },
      "source": [
        "full_usage_temporal = pd.concat([freq_short, category_usage_by_time]).reindex(full_usage.index)"
      ],
      "execution_count": 28,
      "outputs": []
    },
    {
      "cell_type": "code",
      "metadata": {
        "colab": {
          "base_uri": "https://localhost:8080/",
          "height": 112
        },
        "id": "iy1wzAspwFbM",
        "outputId": "ddc2f943-d14e-40c1-eeae-dab800cbfc68"
      },
      "source": [
        "full_usage.head(2)"
      ],
      "execution_count": 29,
      "outputs": [
        {
          "output_type": "execute_result",
          "data": {
            "text/html": [
              "<div>\n",
              "<style scoped>\n",
              "    .dataframe tbody tr th:only-of-type {\n",
              "        vertical-align: middle;\n",
              "    }\n",
              "\n",
              "    .dataframe tbody tr th {\n",
              "        vertical-align: top;\n",
              "    }\n",
              "\n",
              "    .dataframe thead th {\n",
              "        text-align: right;\n",
              "    }\n",
              "</style>\n",
              "<table border=\"1\" class=\"dataframe\">\n",
              "  <thead>\n",
              "    <tr style=\"text-align: right;\">\n",
              "      <th></th>\n",
              "      <th></th>\n",
              "      <th>papers_referencing_dataset</th>\n",
              "      <th>order</th>\n",
              "      <th>is_cat</th>\n",
              "    </tr>\n",
              "  </thead>\n",
              "  <tbody>\n",
              "    <tr>\n",
              "      <th rowspan=\"2\" valign=\"top\">eligible</th>\n",
              "      <th>any eligible</th>\n",
              "      <td>19.0</td>\n",
              "      <td>0.0</td>\n",
              "      <td>True</td>\n",
              "    </tr>\n",
              "    <tr>\n",
              "      <th>ACTUALMED</th>\n",
              "      <td>11.0</td>\n",
              "      <td>0.5</td>\n",
              "      <td>False</td>\n",
              "    </tr>\n",
              "  </tbody>\n",
              "</table>\n",
              "</div>"
            ],
            "text/plain": [
              "                       papers_referencing_dataset  order  is_cat\n",
              "eligible any eligible                        19.0    0.0    True\n",
              "         ACTUALMED                           11.0    0.5   False"
            ]
          },
          "metadata": {
            "tags": []
          },
          "execution_count": 29
        }
      ]
    },
    {
      "cell_type": "markdown",
      "metadata": {
        "id": "rA2f6pQqbot4"
      },
      "source": [
        "## Dataset usage Viz (Figure 4) "
      ]
    },
    {
      "cell_type": "code",
      "metadata": {
        "id": "15zQ3alob8HZ"
      },
      "source": [
        "import seaborn as sns"
      ],
      "execution_count": 30,
      "outputs": []
    },
    {
      "cell_type": "code",
      "metadata": {
        "id": "OchVvm9fX_ml"
      },
      "source": [
        "# Reuse colors from Figure 3\n",
        "color_values = {j: i/6 for i, j in enumerate(order)}\n",
        "color_values['private'] = 2.5/6\n",
        "color_values['not_identified'] = 5.5/6\n",
        "\n",
        "full_usage['colors'] = [\n",
        "    getattr(plt.cm, cmap)(color_values[i])\n",
        "    for i in full_usage.index.get_level_values(0)\n",
        "\n",
        "]"
      ],
      "execution_count": 31,
      "outputs": []
    },
    {
      "cell_type": "code",
      "metadata": {
        "colab": {
          "base_uri": "https://localhost:8080/",
          "height": 747
        },
        "id": "5pGfsEq6NqE1",
        "outputId": "487dbe7a-a668-4fae-ce80-57906a34deba"
      },
      "source": [
        "fig, axes = plt.subplots(2,2, figsize=(20,12),  \n",
        "    gridspec_kw = {\n",
        "        'wspace': 0.37,\n",
        "        'hspace': 0.05,\n",
        "        'width_ratios': [5, 8],\n",
        "        'height_ratios': [2, 10]\n",
        "        }\n",
        "    )\n",
        "\n",
        "index = full_usage.is_cat.values\n",
        "axes[1,0].barh(\n",
        "    np.arange(len(full_usage))[::-1][~index],\n",
        "    full_usage.papers_referencing_dataset[~index]/len(selected_paper)*100,\n",
        "    color = full_usage.colors[~index]\n",
        ")\n",
        "axes[1,0].barh(\n",
        "    np.arange(len(full_usage))[::-1][index],\n",
        "    full_usage.papers_referencing_dataset[index]/len(selected_paper)*100,\n",
        "    edgecolor = full_usage.colors[index],\n",
        "    facecolor='None',\n",
        "    linewidth = 2\n",
        ")\n",
        "\n",
        "\n",
        "axes[1,0].set_xlim(axes[1, 0].get_xlim()[::-1])\n",
        "axes[1,0].set_xlabel('% papers referencing dataset (category)')\n",
        "#axes[1].spines['right'].set_visible(False)\n",
        "axes[1,0].spines['right'].set_visible(False)\n",
        "axes[1,0].spines['top'].set_visible(False)\n",
        "axes[1,0].spines['left'].set_visible(False)\n",
        "axes[1,0].yaxis.tick_right()\n",
        "#relevant_y = [j for j, i in enumerate(usage.papers_referencing_category[::-1]) if i]\n",
        "axes[1,0].set_yticks(np.arange(len(full_usage)))\n",
        "_ = axes[1,0].set_yticklabels(full_usage.index.get_level_values(1)[::-1])\n",
        "axes[1,0].xaxis.grid(True)\n",
        "axes[1,0].set_ylim([-0.5, len(full_usage)-0.5])\n",
        "\n",
        "o = sns.heatmap(full_usage_temporal, ax= axes[1,1], annot=True, cmap='gray_r', cbar=False)\n",
        "axes[1,1].set_yticks([])\n",
        "axes[1,1].set_ylabel('')\n",
        "#axes[1,1].xaxis.tick_top()\n",
        "axes[1,1].yaxis.grid(True)\n",
        "axes[1,1].set_xticklabels(['{m:02d}-{y}'.format(m=m, y=str(y)[2:]) for y, m in full_usage_temporal.columns], rotation='45', ha='right')\n",
        "axes[1,1].set_xlabel('month')\n",
        "\n",
        "axes[0,0].axis('off')\n",
        "#axes[0,2].axis('off')\n",
        "\n",
        "\n",
        "axes[0,1].plot(\n",
        "    #full_usage_temporal[~full_usage.is_cat.values].sum().T.values,\n",
        "    selected_paper.groupby(['year', 'month']).month.count().values,\n",
        "    's-', mfc='none', mew=2, color='0.3', label='PubMed paper'\n",
        ")\n",
        "axes[0,1].plot(\n",
        "    full_usage_temporal[~full_usage.is_cat.values].sum().T.values,\n",
        "    'o:', mfc='none', mew=2, color='0.3', label='dataset references'\n",
        ")\n",
        "axes[0,1].spines['right'].set_visible(False)\n",
        "axes[0,1].spines['top'].set_visible(False)\n",
        "axes[0,1].spines['bottom'].set_visible(False)\n",
        "axes[0,1].set_xticks([])\n",
        "axes[0,1].yaxis.grid(True)\n",
        "\n",
        "\n",
        "axes[0,1].set_yticks([0, 20, 40, 60])\n",
        "#axes[0,1].set_ylabel('referenced\\ndatasets')\n",
        "\n",
        "#axes[0,1].set_yticks([5, 15, 25, 35])\n",
        "axes[0,1].set_ylabel('#')\n",
        "axes[0,1].set_ylim([-1, 70])\n",
        "axes[0,1].legend(bbox_to_anchor=(-0.08, 1), loc='upper right')\n",
        "\n",
        "for i in range(1, 9):\n",
        "    axes[1,0].get_yticklabels()[-i].set_weight(\"bold\")\n",
        "\n",
        "fig.savefig('usagepattern.png', dpi=300, bbox_inches='tight')"
      ],
      "execution_count": 32,
      "outputs": [
        {
          "output_type": "display_data",
          "data": {
            "image/png": "[encoded data removed]",
            "text/plain": [
              "<Figure size 1440x864 with 4 Axes>"
            ]
          },
          "metadata": {
            "tags": [],
            "needs_background": "light"
          }
        }
      ]
    },
    {
      "cell_type": "code",
      "metadata": {
        "id": "r9TLQm1Y-Isu",
        "colab": {
          "base_uri": "https://localhost:8080/"
        },
        "outputId": "b173312f-56b9-49f7-ffa7-f33ad5d7cb22"
      },
      "source": [
        "full_usage.papers_referencing_dataset/len(selected_paper)*100"
      ],
      "execution_count": 33,
      "outputs": [
        {
          "output_type": "execute_result",
          "data": {
            "text/plain": [
              "eligible        any eligible              9.405941\n",
              "                ACTUALMED                 5.445545\n",
              "                BIMCV-COVID19             1.485149\n",
              "                ML HANNOVER               0.990099\n",
              "                RICORD                    0.495050\n",
              "                COVID-19-AR               0.495050\n",
              "                BRIXIA                    0.495050\n",
              "                COVIDGR                   0.495050\n",
              "casecollection  any casecollection       70.297030\n",
              "                Cohen/IEEE8023           67.326733\n",
              "                sirm.org                  7.920792\n",
              "                agchung/Figure1           6.930693\n",
              "                radiopaedia.org           4.950495\n",
              "                kaggle/andrewmd           3.465347\n",
              "                twitter                   2.970297\n",
              "                other_casecollection      2.970297\n",
              "remix           any remix                30.198020\n",
              "                kaggle/tawsifurrahman    17.326733\n",
              "                COVIDx                    5.940594\n",
              "                kaggle/bachrr             3.465347\n",
              "                other_remix              12.376238\n",
              "nocovid         any nocovid              60.396040\n",
              "                Guangzhou pediatric      35.643564\n",
              "                NIH-ChestXray            17.326733\n",
              "                RSNA PNA Challenge       15.841584\n",
              "                Montgomery                3.960396\n",
              "                ChexPert                  3.960396\n",
              "                other_nocovid             7.425743\n",
              "no_info         any no_info               2.475248\n",
              "private         any private              16.831683\n",
              "not_identified  any not_identified        6.435644\n",
              "Name: papers_referencing_dataset, dtype: float64"
            ]
          },
          "metadata": {
            "tags": []
          },
          "execution_count": 33
        }
      ]
    },
    {
      "cell_type": "code",
      "metadata": {
        "id": "MCiHU93krfkU"
      },
      "source": [
        ""
      ],
      "execution_count": 33,
      "outputs": []
    }
  ]
}