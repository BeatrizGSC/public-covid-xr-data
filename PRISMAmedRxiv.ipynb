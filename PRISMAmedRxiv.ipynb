{
  "nbformat": 4,
  "nbformat_minor": 0,
  "metadata": {
    "colab": {
      "name": "PRISMAmedRxiv.ipynb",
      "provenance": [],
      "collapsed_sections": [],
      "authorship_tag": "ABX9TyPN/Wy3g9RVg7oHogkqhIIC",
      "include_colab_link": true
    },
    "kernelspec": {
      "name": "python3",
      "display_name": "Python 3"
    },
    "language_info": {
      "name": "python"
    }
  },
  "cells": [
    {
      "cell_type": "markdown",
      "metadata": {
        "id": "view-in-github",
        "colab_type": "text"
      },
      "source": [
        "<a href=\"https://colab.research.google.com/github/jansoe/public-covid-xr-data/blob/main/PRISMAmedRxiv.ipynb\" target=\"_parent\"><img src=\"https://colab.research.google.com/assets/colab-badge.svg\" alt=\"Open In Colab\"/></a>"
      ]
    },
    {
      "cell_type": "markdown",
      "metadata": {
        "id": "H61bveUqE4xP"
      },
      "source": [
        "# medRxiv Scraping"
      ]
    },
    {
      "cell_type": "markdown",
      "metadata": {
        "id": "YJUTP9XaFDcq"
      },
      "source": [
        "#### Imports"
      ]
    },
    {
      "cell_type": "code",
      "metadata": {
        "id": "3wndSJ9y_bWz"
      },
      "source": [
        "import requests\n",
        "from bs4 import BeautifulSoup as bs\n",
        "#import arxiv\n",
        "\n",
        "import pandas as pd\n",
        "import numpy as np\n",
        "from pprint import pprint\n",
        "\n",
        "import collections\n",
        "import time"
      ],
      "execution_count": 1,
      "outputs": []
    },
    {
      "cell_type": "markdown",
      "metadata": {
        "id": "jQITve5vFJ92"
      },
      "source": [
        "#### Google Drive/Spreadsheet Authenticaction"
      ]
    },
    {
      "cell_type": "code",
      "metadata": {
        "id": "Ll7N6FvSZXS1"
      },
      "source": [
        "from google.colab import auth\n",
        "auth.authenticate_user()"
      ],
      "execution_count": 4,
      "outputs": []
    },
    {
      "cell_type": "code",
      "metadata": {
        "id": "Y_3_t1kio_Qs"
      },
      "source": [
        "import gspread\n",
        "from oauth2client.client import GoogleCredentials\n",
        "\n",
        "gc = gspread.authorize(GoogleCredentials.get_application_default())"
      ],
      "execution_count": 5,
      "outputs": []
    },
    {
      "cell_type": "markdown",
      "metadata": {
        "id": "Kc_n52KEg6Hv"
      },
      "source": [
        "## Identification"
      ]
    },
    {
      "cell_type": "code",
      "metadata": {
        "id": "TcZjSDe7sPUv",
        "colab": {
          "base_uri": "https://localhost:8080/"
        },
        "outputId": "2abc8fae-c91a-4451-c605-755733416ff9"
      },
      "source": [
        "base_url = 'https://www.medrxiv.org/' \n",
        "\n",
        "\n",
        "terms = [\n",
        "    ['covid', 'x-ray' , 'dataset'],\n",
        "    ['covid', 'x-ray' , 'machine%252Blearning'],\n",
        "    ['covid', 'x-ray' , 'deep%252Blearning'],\n",
        "    ['covid', 'x-ray' , 'data%252Bset'],\n",
        "    ['covid-19', 'x-ray' , 'dataset'],\n",
        "    ['covid-19', 'x-ray' , 'machine%252Blearning'],\n",
        "    ['covid-19', 'x-ray' , 'deep%252Blearning'],\n",
        "    ['covid-19', 'x-ray' , 'data%252Bset'],\n",
        "]\n",
        "\n",
        "start = '2020-01-01'\n",
        "end = '2021-04-01'\n",
        "\n",
        "terms = [\"%2522%252Band%252B%2522\".join(x) for x in terms]\n",
        "parse_term = lambda x: f'%2522{x}%2522'\n",
        "limit_parsed = f'%20limit_from%3A{start}%20limit_to%3A{end}'\n",
        "num_results = '%20numresults%3A75'\n",
        "\n",
        "urls = {term: base_url + 'search/' + parse_term(term) + limit_parsed + num_results for term in terms}\n",
        "print('Search URLs')\n",
        "pprint(urls)"
      ],
      "execution_count": 6,
      "outputs": [
        {
          "output_type": "stream",
          "text": [
            "Search URLs\n",
            "{'covid%2522%252Band%252B%2522x-ray%2522%252Band%252B%2522data%252Bset': 'https://www.medrxiv.org/search/%2522covid%2522%252Band%252B%2522x-ray%2522%252Band%252B%2522data%252Bset%2522%20limit_from%3A2020-01-01%20limit_to%3A2021-04-01%20numresults%3A75',\n",
            " 'covid%2522%252Band%252B%2522x-ray%2522%252Band%252B%2522dataset': 'https://www.medrxiv.org/search/%2522covid%2522%252Band%252B%2522x-ray%2522%252Band%252B%2522dataset%2522%20limit_from%3A2020-01-01%20limit_to%3A2021-04-01%20numresults%3A75',\n",
            " 'covid%2522%252Band%252B%2522x-ray%2522%252Band%252B%2522deep%252Blearning': 'https://www.medrxiv.org/search/%2522covid%2522%252Band%252B%2522x-ray%2522%252Band%252B%2522deep%252Blearning%2522%20limit_from%3A2020-01-01%20limit_to%3A2021-04-01%20numresults%3A75',\n",
            " 'covid%2522%252Band%252B%2522x-ray%2522%252Band%252B%2522machine%252Blearning': 'https://www.medrxiv.org/search/%2522covid%2522%252Band%252B%2522x-ray%2522%252Band%252B%2522machine%252Blearning%2522%20limit_from%3A2020-01-01%20limit_to%3A2021-04-01%20numresults%3A75',\n",
            " 'covid-19%2522%252Band%252B%2522x-ray%2522%252Band%252B%2522data%252Bset': 'https://www.medrxiv.org/search/%2522covid-19%2522%252Band%252B%2522x-ray%2522%252Band%252B%2522data%252Bset%2522%20limit_from%3A2020-01-01%20limit_to%3A2021-04-01%20numresults%3A75',\n",
            " 'covid-19%2522%252Band%252B%2522x-ray%2522%252Band%252B%2522dataset': 'https://www.medrxiv.org/search/%2522covid-19%2522%252Band%252B%2522x-ray%2522%252Band%252B%2522dataset%2522%20limit_from%3A2020-01-01%20limit_to%3A2021-04-01%20numresults%3A75',\n",
            " 'covid-19%2522%252Band%252B%2522x-ray%2522%252Band%252B%2522deep%252Blearning': 'https://www.medrxiv.org/search/%2522covid-19%2522%252Band%252B%2522x-ray%2522%252Band%252B%2522deep%252Blearning%2522%20limit_from%3A2020-01-01%20limit_to%3A2021-04-01%20numresults%3A75',\n",
            " 'covid-19%2522%252Band%252B%2522x-ray%2522%252Band%252B%2522machine%252Blearning': 'https://www.medrxiv.org/search/%2522covid-19%2522%252Band%252B%2522x-ray%2522%252Band%252B%2522machine%252Blearning%2522%20limit_from%3A2020-01-01%20limit_to%3A2021-04-01%20numresults%3A75'}\n"
          ],
          "name": "stdout"
        }
      ]
    },
    {
      "cell_type": "code",
      "metadata": {
        "colab": {
          "base_uri": "https://localhost:8080/"
        },
        "id": "oE_aqcd0-oCQ",
        "outputId": "cae4300a-0848-4c54-d92b-bacba1962baf"
      },
      "source": [
        "data ={}\n",
        "\n",
        "for term, url in urls.items():\n",
        "    \n",
        "    found = 0\n",
        "    skipped = 0 \n",
        "    while True:\n",
        "\n",
        "        url_response = requests.post(url)\n",
        "        html = bs(url_response.text, features='html.parser')\n",
        "\n",
        "        articles = html.find_all(attrs={'class': 'search-result'})\n",
        "        for article in articles:\n",
        "            found += 1\n",
        "            doi = article.find(attrs={'class': 'highwire-cite-metadata'}).text.split('doi:')[-1].strip()\n",
        "            if doi not in data:\n",
        "                data[doi] = {\n",
        "                    'title': article.find(attrs={'class': 'highwire-cite-title'}).find(attrs={'class': 'highwire-cite-title'}).text,\n",
        "                    'author':  article.find(attrs={'class': 'highwire-citation-author first'}).text,\n",
        "                    'term': term\n",
        "                }\n",
        "            else:\n",
        "                skipped +=1\n",
        "            \n",
        "\n",
        "        url = html.find(attrs={'class': \"link-icon link-icon-after\"})\n",
        "        if url:\n",
        "            url = base_url + url.attrs['href']\n",
        "        else:\n",
        "            break\n",
        "    print(f'Search for {term} gave {found} results, containing {found-skipped} new results')"
      ],
      "execution_count": 7,
      "outputs": [
        {
          "output_type": "stream",
          "text": [
            "Search for covid%2522%252Band%252B%2522x-ray%2522%252Band%252B%2522dataset gave 277 results, containing 277 new results\n",
            "Search for covid%2522%252Band%252B%2522x-ray%2522%252Band%252B%2522machine%252Blearning gave 207 results, containing 42 new results\n",
            "Search for covid%2522%252Band%252B%2522x-ray%2522%252Band%252B%2522deep%252Blearning gave 225 results, containing 41 new results\n",
            "Search for covid%2522%252Band%252B%2522x-ray%2522%252Band%252B%2522data%252Bset gave 624 results, containing 264 new results\n",
            "Search for covid-19%2522%252Band%252B%2522x-ray%2522%252Band%252B%2522dataset gave 276 results, containing 0 new results\n",
            "Search for covid-19%2522%252Band%252B%2522x-ray%2522%252Band%252B%2522machine%252Blearning gave 206 results, containing 0 new results\n",
            "Search for covid-19%2522%252Band%252B%2522x-ray%2522%252Band%252B%2522deep%252Blearning gave 224 results, containing 0 new results\n",
            "Search for covid-19%2522%252Band%252B%2522x-ray%2522%252Band%252B%2522data%252Bset gave 621 results, containing 0 new results\n"
          ],
          "name": "stdout"
        }
      ]
    },
    {
      "cell_type": "code",
      "metadata": {
        "id": "ru1wtxNpDdNA",
        "colab": {
          "base_uri": "https://localhost:8080/"
        },
        "outputId": "d8aa72e0-ea23-4477-a318-2981d92834d7"
      },
      "source": [
        "identified = pd.DataFrame(data).T\n",
        "identified = identified.reset_index().rename(columns={'index': 'doi'})\n",
        "identified.groupby('term').term.count()"
      ],
      "execution_count": 8,
      "outputs": [
        {
          "output_type": "execute_result",
          "data": {
            "text/plain": [
              "term\n",
              "covid%2522%252Band%252B%2522x-ray%2522%252Band%252B%2522data%252Bset            264\n",
              "covid%2522%252Band%252B%2522x-ray%2522%252Band%252B%2522dataset                 277\n",
              "covid%2522%252Band%252B%2522x-ray%2522%252Band%252B%2522deep%252Blearning        41\n",
              "covid%2522%252Band%252B%2522x-ray%2522%252Band%252B%2522machine%252Blearning     42\n",
              "Name: term, dtype: int64"
            ]
          },
          "metadata": {
            "tags": []
          },
          "execution_count": 8
        }
      ]
    },
    {
      "cell_type": "markdown",
      "metadata": {
        "id": "7_VjG67THQOT"
      },
      "source": [
        "## Screening step"
      ]
    },
    {
      "cell_type": "markdown",
      "metadata": {
        "id": "4Gy3CPK_HTCP"
      },
      "source": [
        "#### Load manual annotation"
      ]
    },
    {
      "cell_type": "code",
      "metadata": {
        "id": "qnIUXARsN5OA"
      },
      "source": [
        "worksheet = gc.open('DatasetScraping').worksheet('MedrxivPaper')\n",
        "rows = worksheet.get_all_values()\n",
        "manual_annotated = pd.DataFrame.from_records(rows[1:], columns=rows[0])\n",
        "manual_annotated['done'] = True"
      ],
      "execution_count": 11,
      "outputs": []
    },
    {
      "cell_type": "code",
      "metadata": {
        "id": "UXWHk0LJN5Qn"
      },
      "source": [
        "annotated = pd.merge(\n",
        "    identified, \n",
        "    manual_annotated[['doi', 'relevant', 'extracted datasets', 'published_doi', 'done']], \n",
        "    on=['doi'], \n",
        "    how='left'\n",
        ")"
      ],
      "execution_count": 12,
      "outputs": []
    },
    {
      "cell_type": "markdown",
      "metadata": {
        "id": "t5RiKx1oHZWh"
      },
      "source": [
        "Check if all papers are annotated"
      ]
    },
    {
      "cell_type": "code",
      "metadata": {
        "colab": {
          "base_uri": "https://localhost:8080/"
        },
        "id": "Jf2BF6sJngNB",
        "outputId": "2e2412c7-dc23-43ce-a218-a1b78d8c1b47"
      },
      "source": [
        "annotated.done.fillna(False).value_counts()"
      ],
      "execution_count": 13,
      "outputs": [
        {
          "output_type": "execute_result",
          "data": {
            "text/plain": [
              "True    624\n",
              "Name: done, dtype: int64"
            ]
          },
          "metadata": {
            "tags": []
          },
          "execution_count": 13
        }
      ]
    },
    {
      "cell_type": "markdown",
      "metadata": {
        "id": "gWTb76nXHe5y"
      },
      "source": [
        "### Screening results"
      ]
    },
    {
      "cell_type": "markdown",
      "metadata": {
        "id": "qpbGXQg8Hjxl"
      },
      "source": [
        "ct (computer tomographie), us (ultra sound) and mri are mapped to nochestxraydata"
      ]
    },
    {
      "cell_type": "code",
      "metadata": {
        "colab": {
          "base_uri": "https://localhost:8080/"
        },
        "id": "fgej2Bg-ngaw",
        "outputId": "d89f84d6-5682-4517-cd97-5bb30ac31270"
      },
      "source": [
        "(annotated.relevant\n",
        "    .replace('', 'PASSED')\n",
        "    .replace('nochestimagingdata', 'nochestxraydata')\n",
        "    .replace('CT', 'nochestxraydata')\n",
        "    .replace('US', 'nochestxraydata')\n",
        "    .replace('CT/US', 'nochestxraydata')\n",
        "    .replace('MRI', 'nochestxraydata')\n",
        "    .value_counts()\n",
        ")"
      ],
      "execution_count": null,
      "outputs": [
        {
          "output_type": "execute_result",
          "data": {
            "text/plain": [
              "nochestxraydata    534\n",
              "PASSED              81\n",
              "nocovid              9\n",
              "self                 1\n",
              "Name: relevant, dtype: int64"
            ]
          },
          "metadata": {
            "tags": []
          },
          "execution_count": 12
        }
      ]
    },
    {
      "cell_type": "markdown",
      "metadata": {
        "id": "TZy9mHWbHujD"
      },
      "source": [
        "Keep only papers that passed filtering"
      ]
    },
    {
      "cell_type": "code",
      "metadata": {
        "id": "JhMReWY2ngdY"
      },
      "source": [
        "chestxray_paper = annotated[annotated.relevant == '']"
      ],
      "execution_count": 15,
      "outputs": []
    },
    {
      "cell_type": "markdown",
      "metadata": {
        "id": "ddXS_H0jHp4P"
      },
      "source": [
        "### Dataset extraction"
      ]
    },
    {
      "cell_type": "markdown",
      "metadata": {
        "id": "RvVosz2uH0Ox"
      },
      "source": [
        "Check if all papers are annotated with datasets"
      ]
    },
    {
      "cell_type": "code",
      "metadata": {
        "colab": {
          "base_uri": "https://localhost:8080/",
          "height": 49
        },
        "id": "4jw8X2ognggT",
        "outputId": "84c2d9be-831d-43a1-885e-afdabbe4f75d"
      },
      "source": [
        "chestxray_paper[chestxray_paper['extracted datasets'].str.len() == 0]"
      ],
      "execution_count": 16,
      "outputs": [
        {
          "output_type": "execute_result",
          "data": {
            "text/html": [
              "<div>\n",
              "<style scoped>\n",
              "    .dataframe tbody tr th:only-of-type {\n",
              "        vertical-align: middle;\n",
              "    }\n",
              "\n",
              "    .dataframe tbody tr th {\n",
              "        vertical-align: top;\n",
              "    }\n",
              "\n",
              "    .dataframe thead th {\n",
              "        text-align: right;\n",
              "    }\n",
              "</style>\n",
              "<table border=\"1\" class=\"dataframe\">\n",
              "  <thead>\n",
              "    <tr style=\"text-align: right;\">\n",
              "      <th></th>\n",
              "      <th>doi</th>\n",
              "      <th>title</th>\n",
              "      <th>author</th>\n",
              "      <th>term</th>\n",
              "      <th>relevant</th>\n",
              "      <th>extracted datasets</th>\n",
              "      <th>published_doi</th>\n",
              "      <th>done</th>\n",
              "    </tr>\n",
              "  </thead>\n",
              "  <tbody>\n",
              "  </tbody>\n",
              "</table>\n",
              "</div>"
            ],
            "text/plain": [
              "Empty DataFrame\n",
              "Columns: [doi, title, author, term, relevant, extracted datasets, published_doi, done]\n",
              "Index: []"
            ]
          },
          "metadata": {
            "tags": []
          },
          "execution_count": 16
        }
      ]
    },
    {
      "cell_type": "code",
      "metadata": {
        "id": "BQIXU9txngip"
      },
      "source": [
        "all_datasets = sum(chestxray_paper['extracted datasets'].str.split(', ').to_list(), [])\n",
        "\n",
        "exclude = ['privat', 'onpub', 'onapplication']\n",
        "set_unique = pd.DataFrame(\n",
        "    collections.Counter([\n",
        "        i.strip().lower() for i in all_datasets \n",
        "        if i and np.all([x not in i for x in exclude])\n",
        "    ]).most_common()\n",
        ")\n",
        "set_unique.columns = ['name', 'count']"
      ],
      "execution_count": 17,
      "outputs": []
    },
    {
      "cell_type": "code",
      "metadata": {
        "colab": {
          "base_uri": "https://localhost:8080/"
        },
        "id": "HWSq_MGMi0G_",
        "outputId": "3ee124a2-b8cf-499f-c8af-09a756a10948"
      },
      "source": [
        "print(f'Found {len(all_datasets)} dataset references, containing {set_unique[\"count\"].sum()} public with {set_unique.shape[0]} thereof unique')"
      ],
      "execution_count": 18,
      "outputs": [
        {
          "output_type": "stream",
          "text": [
            "Found 191 dataset references, containing 173 public with 27 thereof unique\n"
          ],
          "name": "stdout"
        }
      ]
    },
    {
      "cell_type": "markdown",
      "metadata": {
        "id": "_IdM4uTQH-Lq"
      },
      "source": [
        "### Manual annotation of dataset eligibility"
      ]
    },
    {
      "cell_type": "code",
      "metadata": {
        "id": "L6vzKoUXrHoA"
      },
      "source": [
        "gc = gspread.authorize(GoogleCredentials.get_application_default())\n",
        "worksheet = gc.open('DatasetScraping').worksheet('PaperIdentifiedDatasets')\n",
        "\n",
        "rows = worksheet.get_all_values()\n",
        "datasets_eligibility = pd.DataFrame.from_records(rows[1:], columns=rows[0])"
      ],
      "execution_count": 25,
      "outputs": []
    },
    {
      "cell_type": "code",
      "metadata": {
        "colab": {
          "base_uri": "https://localhost:8080/",
          "height": 49
        },
        "id": "tT09YzxFrHqg",
        "outputId": "94690a0c-c627-4997-f5e8-3d5fa4e8866f"
      },
      "source": [
        "is_anaylsed = pd.merge(set_unique, datasets_eligibility, on='name', how='left')\n",
        "is_anaylsed[is_anaylsed.eligibility.isnull()]"
      ],
      "execution_count": 26,
      "outputs": [
        {
          "output_type": "execute_result",
          "data": {
            "text/html": [
              "<div>\n",
              "<style scoped>\n",
              "    .dataframe tbody tr th:only-of-type {\n",
              "        vertical-align: middle;\n",
              "    }\n",
              "\n",
              "    .dataframe tbody tr th {\n",
              "        vertical-align: top;\n",
              "    }\n",
              "\n",
              "    .dataframe thead th {\n",
              "        text-align: right;\n",
              "    }\n",
              "</style>\n",
              "<table border=\"1\" class=\"dataframe\">\n",
              "  <thead>\n",
              "    <tr style=\"text-align: right;\">\n",
              "      <th></th>\n",
              "      <th>name</th>\n",
              "      <th>count</th>\n",
              "      <th>eligibility</th>\n",
              "      <th>paper_name</th>\n",
              "      <th>origin</th>\n",
              "    </tr>\n",
              "  </thead>\n",
              "  <tbody>\n",
              "  </tbody>\n",
              "</table>\n",
              "</div>"
            ],
            "text/plain": [
              "Empty DataFrame\n",
              "Columns: [name, count, eligibility, paper_name, origin]\n",
              "Index: []"
            ]
          },
          "metadata": {
            "tags": []
          },
          "execution_count": 26
        }
      ]
    },
    {
      "cell_type": "code",
      "metadata": {
        "colab": {
          "base_uri": "https://localhost:8080/"
        },
        "id": "BK4aIKI0rHsq",
        "outputId": "47f6e1bc-e792-4d82-a681-fa271773aa51"
      },
      "source": [
        "is_anaylsed.eligibility.replace('', 'ELIGIBLE').value_counts()"
      ],
      "execution_count": 27,
      "outputs": [
        {
          "output_type": "execute_result",
          "data": {
            "text/plain": [
              "nocovid           10\n",
              "remix              7\n",
              "casecollection     6\n",
              "ELIGIBLE           2\n",
              "reannotation       2\n",
              "Name: eligibility, dtype: int64"
            ]
          },
          "metadata": {
            "tags": []
          },
          "execution_count": 27
        }
      ]
    },
    {
      "cell_type": "code",
      "metadata": {
        "colab": {
          "base_uri": "https://localhost:8080/",
          "height": 175
        },
        "id": "mLyyUvMGrHu_",
        "outputId": "4df4bc3f-34bd-4a59-e52f-64bf6a412c29"
      },
      "source": [
        "is_anaylsed[is_anaylsed.eligibility.isin(['', 'reannotation'])].sort_values(by='eligibility')"
      ],
      "execution_count": 28,
      "outputs": [
        {
          "output_type": "execute_result",
          "data": {
            "text/html": [
              "<div>\n",
              "<style scoped>\n",
              "    .dataframe tbody tr th:only-of-type {\n",
              "        vertical-align: middle;\n",
              "    }\n",
              "\n",
              "    .dataframe tbody tr th {\n",
              "        vertical-align: top;\n",
              "    }\n",
              "\n",
              "    .dataframe thead th {\n",
              "        text-align: right;\n",
              "    }\n",
              "</style>\n",
              "<table border=\"1\" class=\"dataframe\">\n",
              "  <thead>\n",
              "    <tr style=\"text-align: right;\">\n",
              "      <th></th>\n",
              "      <th>name</th>\n",
              "      <th>count</th>\n",
              "      <th>eligibility</th>\n",
              "      <th>paper_name</th>\n",
              "      <th>origin</th>\n",
              "    </tr>\n",
              "  </thead>\n",
              "  <tbody>\n",
              "    <tr>\n",
              "      <th>12</th>\n",
              "      <td>bimcv</td>\n",
              "      <td>3</td>\n",
              "      <td></td>\n",
              "      <td>BIMCV-COVID19</td>\n",
              "      <td>https://bimcv.cipf.es/bimcv-projects/bimcv-cov...</td>\n",
              "    </tr>\n",
              "    <tr>\n",
              "      <th>18</th>\n",
              "      <td>hmhospitales</td>\n",
              "      <td>1</td>\n",
              "      <td></td>\n",
              "      <td>HM HOSPITALES</td>\n",
              "      <td>https://www.hmhospitales.com/coronavirus/covid...</td>\n",
              "    </tr>\n",
              "    <tr>\n",
              "      <th>16</th>\n",
              "      <td>covebase4all</td>\n",
              "      <td>2</td>\n",
              "      <td>reannotation</td>\n",
              "      <td>CARING</td>\n",
              "      <td>https://osf.io/b35xu/</td>\n",
              "    </tr>\n",
              "    <tr>\n",
              "      <th>25</th>\n",
              "      <td>tcia_segmentation</td>\n",
              "      <td>1</td>\n",
              "      <td>reannotation</td>\n",
              "      <td>AR-OPACITY</td>\n",
              "      <td>https://github.com/haimingt/opacity_segmentati...</td>\n",
              "    </tr>\n",
              "  </tbody>\n",
              "</table>\n",
              "</div>"
            ],
            "text/plain": [
              "                 name  ...                                             origin\n",
              "12              bimcv  ...  https://bimcv.cipf.es/bimcv-projects/bimcv-cov...\n",
              "18       hmhospitales  ...  https://www.hmhospitales.com/coronavirus/covid...\n",
              "16       covebase4all  ...                              https://osf.io/b35xu/\n",
              "25  tcia_segmentation  ...  https://github.com/haimingt/opacity_segmentati...\n",
              "\n",
              "[4 rows x 5 columns]"
            ]
          },
          "metadata": {
            "tags": []
          },
          "execution_count": 28
        }
      ]
    }
  ]
}