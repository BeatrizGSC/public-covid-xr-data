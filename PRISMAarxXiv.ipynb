{
  "nbformat": 4,
  "nbformat_minor": 0,
  "metadata": {
    "colab": {
      "name": "PRISMAarxXiv.ipynb",
      "provenance": [],
      "collapsed_sections": [],
      "authorship_tag": "ABX9TyO/zUot5mbQLvyc8WTno7Qn",
      "include_colab_link": true
    },
    "kernelspec": {
      "name": "python3",
      "display_name": "Python 3"
    },
    "language_info": {
      "name": "python"
    }
  },
  "cells": [
    {
      "cell_type": "markdown",
      "metadata": {
        "id": "view-in-github",
        "colab_type": "text"
      },
      "source": [
        "<a href=\"https://colab.research.google.com/github/jansoe/public-covid-xr-data/blob/main/PRISMAarxXiv.ipynb\" target=\"_parent\"><img src=\"https://colab.research.google.com/assets/colab-badge.svg\" alt=\"Open In Colab\"/></a>"
      ]
    },
    {
      "cell_type": "markdown",
      "metadata": {
        "id": "3v-yzqy17ta0"
      },
      "source": [
        "# arXiv Scraping"
      ]
    },
    {
      "cell_type": "markdown",
      "metadata": {
        "id": "6yjRF_nn7yeH"
      },
      "source": [
        "### Imports"
      ]
    },
    {
      "cell_type": "code",
      "metadata": {
        "id": "3wndSJ9y_bWz"
      },
      "source": [
        "import requests\n",
        "from bs4 import BeautifulSoup as bs\n",
        "\n",
        "import pandas as pd\n",
        "import numpy as np\n",
        "from pprint import pprint\n",
        "\n",
        "import collections\n",
        "import time"
      ],
      "execution_count": 1,
      "outputs": []
    },
    {
      "cell_type": "code",
      "metadata": {
        "colab": {
          "base_uri": "https://localhost:8080/"
        },
        "id": "BGnE7kcRPSZp",
        "outputId": "d16c41af-7e1b-4a3b-8a3a-978da72a2b94"
      },
      "source": [
        "!pip install arxiv\n",
        "import arxiv"
      ],
      "execution_count": 2,
      "outputs": [
        {
          "output_type": "stream",
          "text": [
            "Collecting arxiv\n",
            "  Downloading https://files.pythonhosted.org/packages/63/cb/01bb646298dd4646277d0b366b6f50001cb2971b0fc2d3879cc5fce01097/arxiv-1.2.0-py3-none-any.whl\n",
            "Collecting feedparser\n",
            "\u001b[?25l  Downloading https://files.pythonhosted.org/packages/1c/21/faf1bac028662cc8adb2b5ef7a6f3999a765baa2835331df365289b0ca56/feedparser-6.0.2-py3-none-any.whl (80kB)\n",
            "\u001b[K     |████████████████████████████████| 81kB 3.7MB/s \n",
            "\u001b[?25hCollecting sgmllib3k\n",
            "  Downloading https://files.pythonhosted.org/packages/9e/bd/3704a8c3e0942d711c1299ebf7b9091930adae6675d7c8f476a7ce48653c/sgmllib3k-1.0.0.tar.gz\n",
            "Building wheels for collected packages: sgmllib3k\n",
            "  Building wheel for sgmllib3k (setup.py) ... \u001b[?25l\u001b[?25hdone\n",
            "  Created wheel for sgmllib3k: filename=sgmllib3k-1.0.0-cp37-none-any.whl size=6067 sha256=20de3bc95a6d64c0c29cbd7efaac7b80d030ee190f93a781dac776c6d32688c7\n",
            "  Stored in directory: /root/.cache/pip/wheels/f1/80/5a/444ba08a550cdd241bd9baf8bae44be750efe370adb944506a\n",
            "Successfully built sgmllib3k\n",
            "Installing collected packages: sgmllib3k, feedparser, arxiv\n",
            "Successfully installed arxiv-1.2.0 feedparser-6.0.2 sgmllib3k-1.0.0\n"
          ],
          "name": "stdout"
        }
      ]
    },
    {
      "cell_type": "markdown",
      "metadata": {
        "id": "aD0M4afF717m"
      },
      "source": [
        "#### Google Drive Authentication "
      ]
    },
    {
      "cell_type": "code",
      "metadata": {
        "id": "Ll7N6FvSZXS1"
      },
      "source": [
        "from google.colab import auth\n",
        "auth.authenticate_user()"
      ],
      "execution_count": 3,
      "outputs": []
    },
    {
      "cell_type": "code",
      "metadata": {
        "id": "Y_3_t1kio_Qs"
      },
      "source": [
        "import gspread\n",
        "from oauth2client.client import GoogleCredentials\n",
        "\n",
        "gc = gspread.authorize(GoogleCredentials.get_application_default())"
      ],
      "execution_count": 4,
      "outputs": []
    },
    {
      "cell_type": "markdown",
      "metadata": {
        "id": "RptceaiR77hu"
      },
      "source": [
        "## Identification"
      ]
    },
    {
      "cell_type": "code",
      "metadata": {
        "id": "rrXZGPCnArzb"
      },
      "source": [
        "terms = [\n",
        "    'all:covid AND all:x-ray AND all:dataset',\n",
        "    'all:covid AND all:x-ray AND all:data set',\n",
        "    'all:covid AND all:x-ray AND all:machine learning',\n",
        "    'all:covid AND all:x-ray AND all:deep learning',\n",
        "    'all:covid-19 AND all:x-ray AND all:dataset',\n",
        "    'all:covid-19 AND all:x-ray AND all:data set',\n",
        "    'all:covid-19 AND all:x-ray AND all:machine learning',\n",
        "    'all:covid-19 AND all:x-ray AND all:deep learning',\n",
        "]"
      ],
      "execution_count": 5,
      "outputs": []
    },
    {
      "cell_type": "code",
      "metadata": {
        "colab": {
          "base_uri": "https://localhost:8080/"
        },
        "id": "Fa6AA77JAr22",
        "outputId": "ede9cb7c-5c7e-42c7-8f3c-7f017f8f1203"
      },
      "source": [
        "screened_arxiv = {}\n",
        "\n",
        "for query in terms:\n",
        "\n",
        "    entries_before = len(screened_arxiv)\n",
        "\n",
        "    search = arxiv.Search(\n",
        "    query = query,\n",
        "    max_results = 500,\n",
        "    sort_by = arxiv.SortCriterion.SubmittedDate,\n",
        "    sort_order = arxiv.SortOrder.Ascending\n",
        "    )\n",
        "    for i, result in enumerate(search.get()):    \n",
        "        id = 'v'.join(result.entry_id.split('v')[:-1])\n",
        "        if id not in screened_arxiv:\n",
        "            screened_arxiv[id] = {\n",
        "                'title': result.title,\n",
        "                'year': result.published.year,\n",
        "                'month': result.published.month,\n",
        "                'title': result.title,\n",
        "                'term': query,\n",
        "                'doi': result.doi\n",
        "            }\n",
        "    print(f'{len(screened_arxiv)-entries_before} new from {i+1} for {query}')"
      ],
      "execution_count": 6,
      "outputs": [
        {
          "output_type": "stream",
          "text": [
            "123 new from 123 for all:covid AND all:x-ray AND all:dataset\n",
            "36 new from 110 for all:covid AND all:x-ray AND all:data set\n",
            "33 new from 155 for all:covid AND all:x-ray AND all:machine learning\n",
            "2 new from 156 for all:covid AND all:x-ray AND all:deep learning\n",
            "0 new from 1 for all:covid-19 AND all:x-ray AND all:dataset\n",
            "0 new from 1 for all:covid-19 AND all:x-ray AND all:data set\n",
            "0 new from 1 for all:covid-19 AND all:x-ray AND all:machine learning\n",
            "0 new from 1 for all:covid-19 AND all:x-ray AND all:deep learning\n"
          ],
          "name": "stdout"
        }
      ]
    },
    {
      "cell_type": "code",
      "metadata": {
        "id": "dWC4JbkhAr50"
      },
      "source": [
        "identified = pd.DataFrame(screened_arxiv).T.sort_values(by=['year', 'month'])\n",
        "identified = identified.reset_index().rename(columns={'index': 'link'})"
      ],
      "execution_count": 7,
      "outputs": []
    },
    {
      "cell_type": "markdown",
      "metadata": {
        "id": "E31VfC798JjP"
      },
      "source": [
        "#### temporal filtering"
      ]
    },
    {
      "cell_type": "code",
      "metadata": {
        "id": "XX2oFvMvAr8m"
      },
      "source": [
        "identified = identified[identified.year > 2019]\n",
        "identified = identified[np.logical_or((identified.year != 2021), (identified.month < 4))]"
      ],
      "execution_count": 8,
      "outputs": []
    },
    {
      "cell_type": "code",
      "metadata": {
        "colab": {
          "base_uri": "https://localhost:8080/",
          "height": 270
        },
        "id": "_nSrC-2xAr_S",
        "outputId": "e6e251be-2bce-4d0c-8566-842ac4729394"
      },
      "source": [
        "display(identified.head(3))\n",
        "display(identified.tail(3))"
      ],
      "execution_count": 10,
      "outputs": [
        {
          "output_type": "display_data",
          "data": {
            "text/html": [
              "<div>\n",
              "<style scoped>\n",
              "    .dataframe tbody tr th:only-of-type {\n",
              "        vertical-align: middle;\n",
              "    }\n",
              "\n",
              "    .dataframe tbody tr th {\n",
              "        vertical-align: top;\n",
              "    }\n",
              "\n",
              "    .dataframe thead th {\n",
              "        text-align: right;\n",
              "    }\n",
              "</style>\n",
              "<table border=\"1\" class=\"dataframe\">\n",
              "  <thead>\n",
              "    <tr style=\"text-align: right;\">\n",
              "      <th></th>\n",
              "      <th>link</th>\n",
              "      <th>title</th>\n",
              "      <th>year</th>\n",
              "      <th>month</th>\n",
              "      <th>term</th>\n",
              "      <th>doi</th>\n",
              "    </tr>\n",
              "  </thead>\n",
              "  <tbody>\n",
              "    <tr>\n",
              "      <th>0</th>\n",
              "      <td>http://arxiv.org/abs/2003.09871</td>\n",
              "      <td>COVID-Net: A Tailored Deep Convolutional Neura...</td>\n",
              "      <td>2020</td>\n",
              "      <td>3</td>\n",
              "      <td>all:covid AND all:x-ray AND all:dataset</td>\n",
              "      <td>None</td>\n",
              "    </tr>\n",
              "    <tr>\n",
              "      <th>1</th>\n",
              "      <td>http://arxiv.org/abs/2003.10769</td>\n",
              "      <td>Estimating Uncertainty and Interpretability in...</td>\n",
              "      <td>2020</td>\n",
              "      <td>3</td>\n",
              "      <td>all:covid AND all:x-ray AND all:dataset</td>\n",
              "      <td>None</td>\n",
              "    </tr>\n",
              "    <tr>\n",
              "      <th>2</th>\n",
              "      <td>http://arxiv.org/abs/2003.10304</td>\n",
              "      <td>Attention U-Net Based Adversarial Architecture...</td>\n",
              "      <td>2020</td>\n",
              "      <td>3</td>\n",
              "      <td>all:covid AND all:x-ray AND all:dataset</td>\n",
              "      <td>None</td>\n",
              "    </tr>\n",
              "  </tbody>\n",
              "</table>\n",
              "</div>"
            ],
            "text/plain": [
              "                              link  ...   doi\n",
              "0  http://arxiv.org/abs/2003.09871  ...  None\n",
              "1  http://arxiv.org/abs/2003.10769  ...  None\n",
              "2  http://arxiv.org/abs/2003.10304  ...  None\n",
              "\n",
              "[3 rows x 6 columns]"
            ]
          },
          "metadata": {
            "tags": []
          }
        },
        {
          "output_type": "display_data",
          "data": {
            "text/html": [
              "<div>\n",
              "<style scoped>\n",
              "    .dataframe tbody tr th:only-of-type {\n",
              "        vertical-align: middle;\n",
              "    }\n",
              "\n",
              "    .dataframe tbody tr th {\n",
              "        vertical-align: top;\n",
              "    }\n",
              "\n",
              "    .dataframe thead th {\n",
              "        text-align: right;\n",
              "    }\n",
              "</style>\n",
              "<table border=\"1\" class=\"dataframe\">\n",
              "  <thead>\n",
              "    <tr style=\"text-align: right;\">\n",
              "      <th></th>\n",
              "      <th>link</th>\n",
              "      <th>title</th>\n",
              "      <th>year</th>\n",
              "      <th>month</th>\n",
              "      <th>term</th>\n",
              "      <th>doi</th>\n",
              "    </tr>\n",
              "  </thead>\n",
              "  <tbody>\n",
              "    <tr>\n",
              "      <th>172</th>\n",
              "      <td>http://arxiv.org/abs/2103.03945</td>\n",
              "      <td>SCRIB: Set-classifier with Class-specific Risk...</td>\n",
              "      <td>2021</td>\n",
              "      <td>3</td>\n",
              "      <td>all:covid AND all:x-ray AND all:data set</td>\n",
              "      <td>None</td>\n",
              "    </tr>\n",
              "    <tr>\n",
              "      <th>173</th>\n",
              "      <td>http://arxiv.org/abs/2103.05094</td>\n",
              "      <td>CovidGAN: Data Augmentation Using Auxiliary Cl...</td>\n",
              "      <td>2021</td>\n",
              "      <td>3</td>\n",
              "      <td>all:covid AND all:x-ray AND all:data set</td>\n",
              "      <td>10.1109/ACCESS.2020.2994762</td>\n",
              "    </tr>\n",
              "    <tr>\n",
              "      <th>174</th>\n",
              "      <td>http://arxiv.org/abs/2103.02961</td>\n",
              "      <td>Probabilistic combination of eigenlungs-based ...</td>\n",
              "      <td>2021</td>\n",
              "      <td>3</td>\n",
              "      <td>all:covid AND all:x-ray AND all:machine learning</td>\n",
              "      <td>None</td>\n",
              "    </tr>\n",
              "  </tbody>\n",
              "</table>\n",
              "</div>"
            ],
            "text/plain": [
              "                                link  ...                          doi\n",
              "172  http://arxiv.org/abs/2103.03945  ...                         None\n",
              "173  http://arxiv.org/abs/2103.05094  ...  10.1109/ACCESS.2020.2994762\n",
              "174  http://arxiv.org/abs/2103.02961  ...                         None\n",
              "\n",
              "[3 rows x 6 columns]"
            ]
          },
          "metadata": {
            "tags": []
          }
        }
      ]
    },
    {
      "cell_type": "markdown",
      "metadata": {
        "id": "ZYgHFxsp8Y19"
      },
      "source": [
        "## Screening step"
      ]
    },
    {
      "cell_type": "markdown",
      "metadata": {
        "id": "3U9JHDHd8bjn"
      },
      "source": [
        "load manual annotation"
      ]
    },
    {
      "cell_type": "code",
      "metadata": {
        "id": "qnIUXARsN5OA",
        "colab": {
          "base_uri": "https://localhost:8080/",
          "height": 81
        },
        "outputId": "7e7a03af-4ddf-4738-9bb6-1061a95f2d60"
      },
      "source": [
        "worksheet = gc.open('DatasetScraping').worksheet('ArxivPaper')\n",
        "rows = worksheet.get_all_values()\n",
        "manual_annotated = pd.DataFrame.from_records(rows[1:], columns=rows[0])\n",
        "manual_annotated['done'] = True\n",
        "\n",
        "display(manual_annotated.head(1))"
      ],
      "execution_count": 18,
      "outputs": [
        {
          "output_type": "display_data",
          "data": {
            "text/html": [
              "<div>\n",
              "<style scoped>\n",
              "    .dataframe tbody tr th:only-of-type {\n",
              "        vertical-align: middle;\n",
              "    }\n",
              "\n",
              "    .dataframe tbody tr th {\n",
              "        vertical-align: top;\n",
              "    }\n",
              "\n",
              "    .dataframe thead th {\n",
              "        text-align: right;\n",
              "    }\n",
              "</style>\n",
              "<table border=\"1\" class=\"dataframe\">\n",
              "  <thead>\n",
              "    <tr style=\"text-align: right;\">\n",
              "      <th></th>\n",
              "      <th>link</th>\n",
              "      <th>title</th>\n",
              "      <th>year</th>\n",
              "      <th>month</th>\n",
              "      <th>doi</th>\n",
              "      <th>relevant</th>\n",
              "      <th>extracted datasets</th>\n",
              "      <th>doi_pub</th>\n",
              "      <th>done</th>\n",
              "    </tr>\n",
              "  </thead>\n",
              "  <tbody>\n",
              "    <tr>\n",
              "      <th>0</th>\n",
              "      <td>http://arxiv.org/abs/2003.09871</td>\n",
              "      <td>COVID-Net: A Tailored Deep Convolutional Neura...</td>\n",
              "      <td>2020</td>\n",
              "      <td>3</td>\n",
              "      <td></td>\n",
              "      <td></td>\n",
              "      <td>covidx</td>\n",
              "      <td>10.1038/s41598-020-76550-z</td>\n",
              "      <td>True</td>\n",
              "    </tr>\n",
              "  </tbody>\n",
              "</table>\n",
              "</div>"
            ],
            "text/plain": [
              "                              link  ...  done\n",
              "0  http://arxiv.org/abs/2003.09871  ...  True\n",
              "\n",
              "[1 rows x 9 columns]"
            ]
          },
          "metadata": {
            "tags": []
          }
        }
      ]
    },
    {
      "cell_type": "code",
      "metadata": {
        "id": "UXWHk0LJN5Qn"
      },
      "source": [
        "annotated = pd.merge(\n",
        "    identified, \n",
        "    manual_annotated[['link', 'relevant', 'extracted datasets', 'doi_pub', 'done']], \n",
        "    on=['link'], \n",
        "    how='left'\n",
        ")"
      ],
      "execution_count": 19,
      "outputs": []
    },
    {
      "cell_type": "markdown",
      "metadata": {
        "id": "G2-asLKs8kad"
      },
      "source": [
        "Check if all data is already annotated"
      ]
    },
    {
      "cell_type": "code",
      "metadata": {
        "colab": {
          "base_uri": "https://localhost:8080/"
        },
        "id": "Jf2BF6sJngNB",
        "outputId": "5be65012-fdc2-42c7-a5db-d14139475fba"
      },
      "source": [
        "annotated.done.fillna(False).value_counts()"
      ],
      "execution_count": 20,
      "outputs": [
        {
          "output_type": "execute_result",
          "data": {
            "text/plain": [
              "True    175\n",
              "Name: done, dtype: int64"
            ]
          },
          "metadata": {
            "tags": []
          },
          "execution_count": 20
        }
      ]
    },
    {
      "cell_type": "markdown",
      "metadata": {
        "id": "ZKIDmpxb8pjf"
      },
      "source": [
        "### Screening results papers"
      ]
    },
    {
      "cell_type": "markdown",
      "metadata": {
        "id": "mebJejUF8yQB"
      },
      "source": [
        "map CT and US to nochestxraydata"
      ]
    },
    {
      "cell_type": "code",
      "metadata": {
        "colab": {
          "base_uri": "https://localhost:8080/"
        },
        "id": "fgej2Bg-ngaw",
        "outputId": "8da02bec-efd0-4d20-d146-de165abf4754"
      },
      "source": [
        "(annotated.relevant\n",
        "    .replace('', 'PASSED')\n",
        "    .replace('CT', 'nochestxraydata') \n",
        "    .replace('US', 'nochestxraydata')\n",
        "    .value_counts()\n",
        ")"
      ],
      "execution_count": 21,
      "outputs": [
        {
          "output_type": "execute_result",
          "data": {
            "text/plain": [
              "PASSED             155\n",
              "nochestxraydata     19\n",
              "nocovid              1\n",
              "Name: relevant, dtype: int64"
            ]
          },
          "metadata": {
            "tags": []
          },
          "execution_count": 21
        }
      ]
    },
    {
      "cell_type": "markdown",
      "metadata": {
        "id": "v1UoCGyj84aZ"
      },
      "source": [
        "filter for paper that passed screening (and check if all are annotated)"
      ]
    },
    {
      "cell_type": "code",
      "metadata": {
        "id": "JhMReWY2ngdY",
        "colab": {
          "base_uri": "https://localhost:8080/",
          "height": 49
        },
        "outputId": "eb361491-766d-46c0-f9e7-795eb2916e78"
      },
      "source": [
        "chestxray_paper = annotated[annotated.relevant == '']\n",
        "chestxray_paper[chestxray_paper['extracted datasets'].str.len() == 0]"
      ],
      "execution_count": 24,
      "outputs": [
        {
          "output_type": "execute_result",
          "data": {
            "text/html": [
              "<div>\n",
              "<style scoped>\n",
              "    .dataframe tbody tr th:only-of-type {\n",
              "        vertical-align: middle;\n",
              "    }\n",
              "\n",
              "    .dataframe tbody tr th {\n",
              "        vertical-align: top;\n",
              "    }\n",
              "\n",
              "    .dataframe thead th {\n",
              "        text-align: right;\n",
              "    }\n",
              "</style>\n",
              "<table border=\"1\" class=\"dataframe\">\n",
              "  <thead>\n",
              "    <tr style=\"text-align: right;\">\n",
              "      <th></th>\n",
              "      <th>link</th>\n",
              "      <th>title</th>\n",
              "      <th>year</th>\n",
              "      <th>month</th>\n",
              "      <th>term</th>\n",
              "      <th>doi</th>\n",
              "      <th>relevant</th>\n",
              "      <th>extracted datasets</th>\n",
              "      <th>doi_pub</th>\n",
              "      <th>done</th>\n",
              "    </tr>\n",
              "  </thead>\n",
              "  <tbody>\n",
              "  </tbody>\n",
              "</table>\n",
              "</div>"
            ],
            "text/plain": [
              "Empty DataFrame\n",
              "Columns: [link, title, year, month, term, doi, relevant, extracted datasets, doi_pub, done]\n",
              "Index: []"
            ]
          },
          "metadata": {
            "tags": []
          },
          "execution_count": 24
        }
      ]
    },
    {
      "cell_type": "markdown",
      "metadata": {
        "id": "TlYLpRFSC2kL"
      },
      "source": [
        "### Dataset Extraction"
      ]
    },
    {
      "cell_type": "markdown",
      "metadata": {
        "id": "jeNnU-9zDBdT"
      },
      "source": [
        "* Remove all datasets which are privat (i.e. privat, on publication, on request) or which could not be identified\n",
        "* remove duplicates"
      ]
    },
    {
      "cell_type": "code",
      "metadata": {
        "id": "BQIXU9txngip"
      },
      "source": [
        "all_datasets = sum(chestxray_paper['extracted datasets'].str.split(', ').to_list(), [])\n",
        "\n",
        "exclude = ['privat', 'onpub', 'not_ident', 'onrequest']\n",
        "set_unique = pd.DataFrame(\n",
        "    collections.Counter([\n",
        "        i.strip().lower() for i in all_datasets \n",
        "        if i and np.all([x not in i for x in exclude])\n",
        "    ]).most_common()\n",
        ")\n",
        "set_unique.columns = ['name', 'count']"
      ],
      "execution_count": 25,
      "outputs": []
    },
    {
      "cell_type": "code",
      "metadata": {
        "colab": {
          "base_uri": "https://localhost:8080/"
        },
        "id": "n-tc59lGrHi5",
        "outputId": "8ccec7d6-0a30-46bc-baf4-a1d8401bfb85"
      },
      "source": [
        "print(f'Found {len(all_datasets)} dataset references, containing {set_unique[\"count\"].sum()} public with {set_unique.shape[0]} thereof unique')"
      ],
      "execution_count": 26,
      "outputs": [
        {
          "output_type": "stream",
          "text": [
            "Found 441 dataset references, containing 415 public with 47 thereof unique\n"
          ],
          "name": "stdout"
        }
      ]
    },
    {
      "cell_type": "markdown",
      "metadata": {
        "id": "2zRmYLKgDiV6"
      },
      "source": [
        "## Manual annotation of dataset eligibility\n",
        "Load annotations"
      ]
    },
    {
      "cell_type": "code",
      "metadata": {
        "id": "L6vzKoUXrHoA"
      },
      "source": [
        "gc = gspread.authorize(GoogleCredentials.get_application_default())\n",
        "worksheet = gc.open('DatasetScraping').worksheet('PaperIdentifiedDatasets')\n",
        "\n",
        "rows = worksheet.get_all_values()\n",
        "datasets_eligibility = pd.DataFrame.from_records(rows[1:], columns=rows[0])"
      ],
      "execution_count": 29,
      "outputs": []
    },
    {
      "cell_type": "markdown",
      "metadata": {
        "id": "H2nRZkxtEcmA"
      },
      "source": [
        "Check if all datasets are annotated "
      ]
    },
    {
      "cell_type": "code",
      "metadata": {
        "colab": {
          "base_uri": "https://localhost:8080/",
          "height": 49
        },
        "id": "tT09YzxFrHqg",
        "outputId": "f26ac0c9-693a-4d1c-a66f-5d92d3235bbe"
      },
      "source": [
        "is_anaylsed = pd.merge(set_unique, datasets_eligibility, on='name', how='left')\n",
        "is_anaylsed[is_anaylsed.eligibility.isnull()]"
      ],
      "execution_count": 30,
      "outputs": [
        {
          "output_type": "execute_result",
          "data": {
            "text/html": [
              "<div>\n",
              "<style scoped>\n",
              "    .dataframe tbody tr th:only-of-type {\n",
              "        vertical-align: middle;\n",
              "    }\n",
              "\n",
              "    .dataframe tbody tr th {\n",
              "        vertical-align: top;\n",
              "    }\n",
              "\n",
              "    .dataframe thead th {\n",
              "        text-align: right;\n",
              "    }\n",
              "</style>\n",
              "<table border=\"1\" class=\"dataframe\">\n",
              "  <thead>\n",
              "    <tr style=\"text-align: right;\">\n",
              "      <th></th>\n",
              "      <th>name</th>\n",
              "      <th>count</th>\n",
              "      <th>eligibility</th>\n",
              "      <th>paper_name</th>\n",
              "      <th>origin</th>\n",
              "    </tr>\n",
              "  </thead>\n",
              "  <tbody>\n",
              "  </tbody>\n",
              "</table>\n",
              "</div>"
            ],
            "text/plain": [
              "Empty DataFrame\n",
              "Columns: [name, count, eligibility, paper_name, origin]\n",
              "Index: []"
            ]
          },
          "metadata": {
            "tags": []
          },
          "execution_count": 30
        }
      ]
    },
    {
      "cell_type": "code",
      "metadata": {
        "colab": {
          "base_uri": "https://localhost:8080/"
        },
        "id": "BK4aIKI0rHsq",
        "outputId": "18f343c5-9f1b-4e6a-9026-537a10238a01"
      },
      "source": [
        "is_anaylsed.eligibility.replace('', 'ELIGIBLE').value_counts()"
      ],
      "execution_count": 31,
      "outputs": [
        {
          "output_type": "execute_result",
          "data": {
            "text/plain": [
              "remix                 15\n",
              "nocovid               12\n",
              "casecollection        10\n",
              "ELIGIBLE               8\n",
              "remix_reannotation     1\n",
              "noinfo                 1\n",
              "Name: eligibility, dtype: int64"
            ]
          },
          "metadata": {
            "tags": []
          },
          "execution_count": 31
        }
      ]
    },
    {
      "cell_type": "code",
      "metadata": {
        "colab": {
          "base_uri": "https://localhost:8080/",
          "height": 300
        },
        "id": "mLyyUvMGrHu_",
        "outputId": "384b87d5-26a5-4a9e-8953-944f6a442a8b"
      },
      "source": [
        "is_anaylsed[is_anaylsed.eligibility == '']"
      ],
      "execution_count": 32,
      "outputs": [
        {
          "output_type": "execute_result",
          "data": {
            "text/html": [
              "<div>\n",
              "<style scoped>\n",
              "    .dataframe tbody tr th:only-of-type {\n",
              "        vertical-align: middle;\n",
              "    }\n",
              "\n",
              "    .dataframe tbody tr th {\n",
              "        vertical-align: top;\n",
              "    }\n",
              "\n",
              "    .dataframe thead th {\n",
              "        text-align: right;\n",
              "    }\n",
              "</style>\n",
              "<table border=\"1\" class=\"dataframe\">\n",
              "  <thead>\n",
              "    <tr style=\"text-align: right;\">\n",
              "      <th></th>\n",
              "      <th>name</th>\n",
              "      <th>count</th>\n",
              "      <th>eligibility</th>\n",
              "      <th>paper_name</th>\n",
              "      <th>origin</th>\n",
              "    </tr>\n",
              "  </thead>\n",
              "  <tbody>\n",
              "    <tr>\n",
              "      <th>10</th>\n",
              "      <td>bimcv</td>\n",
              "      <td>10</td>\n",
              "      <td></td>\n",
              "      <td>BIMCV-COVID19</td>\n",
              "      <td>https://bimcv.cipf.es/bimcv-projects/bimcv-cov...</td>\n",
              "    </tr>\n",
              "    <tr>\n",
              "      <th>14</th>\n",
              "      <td>actualmed</td>\n",
              "      <td>7</td>\n",
              "      <td></td>\n",
              "      <td>ACTUALMED</td>\n",
              "      <td>https://github.com/agchung/Actualmed-COVID-che...</td>\n",
              "    </tr>\n",
              "    <tr>\n",
              "      <th>18</th>\n",
              "      <td>mlhannover</td>\n",
              "      <td>5</td>\n",
              "      <td></td>\n",
              "      <td>ML HANNOVER</td>\n",
              "      <td>https://github.com/ml-workgroup/covid-19-image...</td>\n",
              "    </tr>\n",
              "    <tr>\n",
              "      <th>20</th>\n",
              "      <td>brixia</td>\n",
              "      <td>4</td>\n",
              "      <td></td>\n",
              "      <td>BRIXIA</td>\n",
              "      <td>https://brixia.github.io/</td>\n",
              "    </tr>\n",
              "    <tr>\n",
              "      <th>26</th>\n",
              "      <td>covidgr</td>\n",
              "      <td>2</td>\n",
              "      <td></td>\n",
              "      <td>COVIDGR</td>\n",
              "      <td>https://dasci.es/transferencia/open-data/covid...</td>\n",
              "    </tr>\n",
              "    <tr>\n",
              "      <th>31</th>\n",
              "      <td>tcia_rural</td>\n",
              "      <td>2</td>\n",
              "      <td></td>\n",
              "      <td>COVID-19-AR</td>\n",
              "      <td>https://wiki.cancerimagingarchive.net/pages/vi...</td>\n",
              "    </tr>\n",
              "    <tr>\n",
              "      <th>32</th>\n",
              "      <td>hmhospitales</td>\n",
              "      <td>2</td>\n",
              "      <td></td>\n",
              "      <td>HM HOSPITALES</td>\n",
              "      <td>https://www.hmhospitales.com/coronavirus/covid...</td>\n",
              "    </tr>\n",
              "    <tr>\n",
              "      <th>42</th>\n",
              "      <td>aiforcovid</td>\n",
              "      <td>1</td>\n",
              "      <td></td>\n",
              "      <td>AIforCOVID</td>\n",
              "      <td>https://aiforcovid.radiomica.it/</td>\n",
              "    </tr>\n",
              "  </tbody>\n",
              "</table>\n",
              "</div>"
            ],
            "text/plain": [
              "            name  ...                                             origin\n",
              "10         bimcv  ...  https://bimcv.cipf.es/bimcv-projects/bimcv-cov...\n",
              "14     actualmed  ...  https://github.com/agchung/Actualmed-COVID-che...\n",
              "18    mlhannover  ...  https://github.com/ml-workgroup/covid-19-image...\n",
              "20        brixia  ...                          https://brixia.github.io/\n",
              "26       covidgr  ...  https://dasci.es/transferencia/open-data/covid...\n",
              "31    tcia_rural  ...  https://wiki.cancerimagingarchive.net/pages/vi...\n",
              "32  hmhospitales  ...  https://www.hmhospitales.com/coronavirus/covid...\n",
              "42    aiforcovid  ...                   https://aiforcovid.radiomica.it/\n",
              "\n",
              "[8 rows x 5 columns]"
            ]
          },
          "metadata": {
            "tags": []
          },
          "execution_count": 32
        }
      ]
    },
    {
      "cell_type": "code",
      "metadata": {
        "id": "LT-ayPSsEls3"
      },
      "source": [
        ""
      ],
      "execution_count": null,
      "outputs": []
    }
  ]
}