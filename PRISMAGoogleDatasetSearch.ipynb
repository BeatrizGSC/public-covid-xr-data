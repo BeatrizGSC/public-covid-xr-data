{
  "nbformat": 4,
  "nbformat_minor": 0,
  "metadata": {
    "colab": {
      "name": "PRISMAGoogleDatasetSearch.ipynb",
      "provenance": [],
      "authorship_tag": "ABX9TyP20zJj61ypk3F15JU0iKLJ",
      "include_colab_link": true
    },
    "kernelspec": {
      "name": "python3",
      "display_name": "Python 3"
    },
    "language_info": {
      "name": "python"
    }
  },
  "cells": [
    {
      "cell_type": "markdown",
      "metadata": {
        "id": "view-in-github",
        "colab_type": "text"
      },
      "source": [
        "<a href=\"https://colab.research.google.com/github/jansoe/public-covid-xr-data/blob/main/PRISMAGoogleDatasetSearch.ipynb\" target=\"_parent\"><img src=\"https://colab.research.google.com/assets/colab-badge.svg\" alt=\"Open In Colab\"/></a>"
      ]
    },
    {
      "cell_type": "markdown",
      "metadata": {
        "id": "8o1Qut6BH6uQ"
      },
      "source": [
        "# PRISMA Google Dataset Search"
      ]
    },
    {
      "cell_type": "code",
      "metadata": {
        "id": "v7yaw-mX3l6n"
      },
      "source": [
        "import pandas as pd\n",
        "import numpy as np"
      ],
      "execution_count": 1,
      "outputs": []
    },
    {
      "cell_type": "code",
      "metadata": {
        "id": "M6X3Uuux3xoU"
      },
      "source": [
        "from google.colab import auth\n",
        "auth.authenticate_user()"
      ],
      "execution_count": 2,
      "outputs": []
    },
    {
      "cell_type": "code",
      "metadata": {
        "id": "R61K1FrW3zRL"
      },
      "source": [
        "import gspread\n",
        "from oauth2client.client import GoogleCredentials"
      ],
      "execution_count": 4,
      "outputs": []
    },
    {
      "cell_type": "markdown",
      "metadata": {
        "id": "DnvgzsTc3_02"
      },
      "source": [
        "## Identification Step"
      ]
    },
    {
      "cell_type": "markdown",
      "metadata": {
        "id": "MBXBHiciGhAX"
      },
      "source": [
        "Data was manually entered into spreadsheet from google datasets search \"covid x-ray\""
      ]
    },
    {
      "cell_type": "code",
      "metadata": {
        "colab": {
          "base_uri": "https://localhost:8080/"
        },
        "id": "UXNgX2Ru36Yz",
        "outputId": "db878bbc-167d-46f1-b9d6-9b1ae5f86013"
      },
      "source": [
        "gc = gspread.authorize(GoogleCredentials.get_application_default())\n",
        "worksheet = gc.open('DatasetScraping').worksheet('GoogleDataset')\n",
        "\n",
        "rows = worksheet.get_all_values()\n",
        "datasets = pd.DataFrame.from_records(rows[1:], columns=rows[0])\n",
        "print(f'Found datasets: {len(datasets)}')"
      ],
      "execution_count": 5,
      "outputs": [
        {
          "output_type": "stream",
          "text": [
            "Found datasets: 199\n"
          ],
          "name": "stdout"
        }
      ]
    },
    {
      "cell_type": "markdown",
      "metadata": {
        "id": "FpnPMqdd48pC"
      },
      "source": [
        "## Screening step"
      ]
    },
    {
      "cell_type": "code",
      "metadata": {
        "colab": {
          "base_uri": "https://localhost:8080/"
        },
        "id": "bnRvl5424HCe",
        "outputId": "9082162f-9f77-456a-8a91-ff2dd503136f"
      },
      "source": [
        "datasets.screening = datasets.screening.replace('', 'PASS')\n",
        "datasets.screening.value_counts()"
      ],
      "execution_count": 6,
      "outputs": [
        {
          "output_type": "execute_result",
          "data": {
            "text/plain": [
              "PASS                119\n",
              "no_chestxraydata     73\n",
              "na                    4\n",
              "notpublic             3\n",
              "Name: screening, dtype: int64"
            ]
          },
          "metadata": {
            "tags": []
          },
          "execution_count": 6
        }
      ]
    },
    {
      "cell_type": "markdown",
      "metadata": {
        "id": "mLuQ6jN2HHyb"
      },
      "source": [
        "Remove all datasets which have not passed screening"
      ]
    },
    {
      "cell_type": "code",
      "metadata": {
        "id": "xfXazdWg4K5C",
        "colab": {
          "base_uri": "https://localhost:8080/"
        },
        "outputId": "eaede4aa-54ca-414c-b529-b1c56d206217"
      },
      "source": [
        "screened = datasets[datasets.screening == 'PASS']\n",
        "screened.shape"
      ],
      "execution_count": 7,
      "outputs": [
        {
          "output_type": "execute_result",
          "data": {
            "text/plain": [
              "(119, 6)"
            ]
          },
          "metadata": {
            "tags": []
          },
          "execution_count": 7
        }
      ]
    },
    {
      "cell_type": "markdown",
      "metadata": {
        "id": "3Gb8tiBTHbkw"
      },
      "source": [
        "Deduplicate by dataset link"
      ]
    },
    {
      "cell_type": "code",
      "metadata": {
        "id": "a-r2-9n7KSXe",
        "colab": {
          "base_uri": "https://localhost:8080/"
        },
        "outputId": "02567b65-4fa6-4ffc-99ff-8b01fb27c0ca"
      },
      "source": [
        "deduplicated = screened.groupby('Link').first().reset_index()\n",
        "deduplicated.shape"
      ],
      "execution_count": 14,
      "outputs": [
        {
          "output_type": "execute_result",
          "data": {
            "text/plain": [
              "(112, 6)"
            ]
          },
          "metadata": {
            "tags": []
          },
          "execution_count": 14
        }
      ]
    },
    {
      "cell_type": "markdown",
      "metadata": {
        "id": "1GPhTvqj-VTS"
      },
      "source": [
        "## Eligibility step"
      ]
    },
    {
      "cell_type": "code",
      "metadata": {
        "colab": {
          "base_uri": "https://localhost:8080/"
        },
        "id": "F7QWZj6v5R3v",
        "outputId": "b607460c-62f6-4b38-9c08-ba54c0dbd59b"
      },
      "source": [
        "deduplicated.eligibility = deduplicated.eligibility.replace('', 'PASS')\n",
        "deduplicated.eligibility.value_counts()"
      ],
      "execution_count": 15,
      "outputs": [
        {
          "output_type": "execute_result",
          "data": {
            "text/plain": [
              "remix             58\n",
              "no_info           38\n",
              "nocovid            5\n",
              "PASS               3\n",
              "synthetic          3\n",
              "casecollection     3\n",
              "no_meta            2\n",
              "Name: eligibility, dtype: int64"
            ]
          },
          "metadata": {
            "tags": []
          },
          "execution_count": 15
        }
      ]
    },
    {
      "cell_type": "markdown",
      "metadata": {
        "id": "BuGlGDlj_jO0"
      },
      "source": [
        "#### Final eligibal datasets"
      ]
    },
    {
      "cell_type": "code",
      "metadata": {
        "colab": {
          "base_uri": "https://localhost:8080/",
          "height": 143
        },
        "id": "j2SgnEJ25aXF",
        "outputId": "6cb2f721-ff38-4eb3-c019-d3790b8234ea"
      },
      "source": [
        "deduplicated[deduplicated.eligibility == 'PASS']"
      ],
      "execution_count": 16,
      "outputs": [
        {
          "output_type": "execute_result",
          "data": {
            "text/html": [
              "<div>\n",
              "<style scoped>\n",
              "    .dataframe tbody tr th:only-of-type {\n",
              "        vertical-align: middle;\n",
              "    }\n",
              "\n",
              "    .dataframe tbody tr th {\n",
              "        vertical-align: top;\n",
              "    }\n",
              "\n",
              "    .dataframe thead th {\n",
              "        text-align: right;\n",
              "    }\n",
              "</style>\n",
              "<table border=\"1\" class=\"dataframe\">\n",
              "  <thead>\n",
              "    <tr style=\"text-align: right;\">\n",
              "      <th></th>\n",
              "      <th>Link</th>\n",
              "      <th>Title</th>\n",
              "      <th>DOI</th>\n",
              "      <th>screening</th>\n",
              "      <th>nickname</th>\n",
              "      <th>eligibility</th>\n",
              "    </tr>\n",
              "  </thead>\n",
              "  <tbody>\n",
              "    <tr>\n",
              "      <th>0</th>\n",
              "      <td>https://bimcv.cipf.es/bimcv-projects/bimcv-cov...</td>\n",
              "      <td>BIMCV-COVID-19+ dataset</td>\n",
              "      <td>10.21227/w3aw-rv39</td>\n",
              "      <td>PASS</td>\n",
              "      <td>bimcv</td>\n",
              "      <td>PASS</td>\n",
              "    </tr>\n",
              "    <tr>\n",
              "      <th>17</th>\n",
              "      <td>https://github.com/ari-dasci/OD-covidgr</td>\n",
              "      <td>COVIDGR Dataset</td>\n",
              "      <td></td>\n",
              "      <td>PASS</td>\n",
              "      <td>covidgr</td>\n",
              "      <td>PASS</td>\n",
              "    </tr>\n",
              "    <tr>\n",
              "      <th>21</th>\n",
              "      <td>https://github.com/ml-workgroup/covid-19-image...</td>\n",
              "      <td>COVID-19 Image Repository</td>\n",
              "      <td></td>\n",
              "      <td>PASS</td>\n",
              "      <td>mlhannover</td>\n",
              "      <td>PASS</td>\n",
              "    </tr>\n",
              "  </tbody>\n",
              "</table>\n",
              "</div>"
            ],
            "text/plain": [
              "                                                 Link  ... eligibility\n",
              "0   https://bimcv.cipf.es/bimcv-projects/bimcv-cov...  ...        PASS\n",
              "17            https://github.com/ari-dasci/OD-covidgr  ...        PASS\n",
              "21  https://github.com/ml-workgroup/covid-19-image...  ...        PASS\n",
              "\n",
              "[3 rows x 6 columns]"
            ]
          },
          "metadata": {
            "tags": []
          },
          "execution_count": 16
        }
      ]
    },
    {
      "cell_type": "markdown",
      "metadata": {
        "id": "gwiXPi7Y_tVG"
      },
      "source": [
        "#### Honorabale mentions: not eligibal, but datasets of unique origin"
      ]
    },
    {
      "cell_type": "code",
      "metadata": {
        "colab": {
          "base_uri": "https://localhost:8080/",
          "height": 112
        },
        "id": "_-SCz4Rl51Pd",
        "outputId": "07121708-da8e-4af5-a7de-6086ec08c2bc"
      },
      "source": [
        "deduplicated[deduplicated.eligibility == 'no_meta']"
      ],
      "execution_count": 17,
      "outputs": [
        {
          "output_type": "execute_result",
          "data": {
            "text/html": [
              "<div>\n",
              "<style scoped>\n",
              "    .dataframe tbody tr th:only-of-type {\n",
              "        vertical-align: middle;\n",
              "    }\n",
              "\n",
              "    .dataframe tbody tr th {\n",
              "        vertical-align: top;\n",
              "    }\n",
              "\n",
              "    .dataframe thead th {\n",
              "        text-align: right;\n",
              "    }\n",
              "</style>\n",
              "<table border=\"1\" class=\"dataframe\">\n",
              "  <thead>\n",
              "    <tr style=\"text-align: right;\">\n",
              "      <th></th>\n",
              "      <th>Link</th>\n",
              "      <th>Title</th>\n",
              "      <th>DOI</th>\n",
              "      <th>screening</th>\n",
              "      <th>nickname</th>\n",
              "      <th>eligibility</th>\n",
              "    </tr>\n",
              "  </thead>\n",
              "  <tbody>\n",
              "    <tr>\n",
              "      <th>4</th>\n",
              "      <td>https://data.mendeley.com/datasets/4n66brtp4j</td>\n",
              "      <td>COVID Chest X-Rays</td>\n",
              "      <td></td>\n",
              "      <td>PASS</td>\n",
              "      <td></td>\n",
              "      <td>no_meta</td>\n",
              "    </tr>\n",
              "    <tr>\n",
              "      <th>9</th>\n",
              "      <td>https://data.mendeley.com/datasets/fvp7m8c9ss</td>\n",
              "      <td>Chest X-rays of COVID-19 Pandemic Infected Pat...</td>\n",
              "      <td>10.17632/fvp7m8c9ss</td>\n",
              "      <td>PASS</td>\n",
              "      <td></td>\n",
              "      <td>no_meta</td>\n",
              "    </tr>\n",
              "  </tbody>\n",
              "</table>\n",
              "</div>"
            ],
            "text/plain": [
              "                                            Link  ... eligibility\n",
              "4  https://data.mendeley.com/datasets/4n66brtp4j  ...     no_meta\n",
              "9  https://data.mendeley.com/datasets/fvp7m8c9ss  ...     no_meta\n",
              "\n",
              "[2 rows x 6 columns]"
            ]
          },
          "metadata": {
            "tags": []
          },
          "execution_count": 17
        }
      ]
    },
    {
      "cell_type": "code",
      "metadata": {
        "id": "IvbZ6GwTP-Gz"
      },
      "source": [
        ""
      ],
      "execution_count": null,
      "outputs": []
    },
    {
      "cell_type": "code",
      "metadata": {
        "id": "EEATCGP3S9ZF"
      },
      "source": [
        ""
      ],
      "execution_count": null,
      "outputs": []
    }
  ]
}